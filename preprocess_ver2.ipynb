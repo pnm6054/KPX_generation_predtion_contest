{
 "cells": [
  {
   "cell_type": "code",
   "execution_count": 1,
   "metadata": {},
   "outputs": [],
   "source": [
    "import numpy as np\n",
    "import pandas as pd\n",
    "import matplotlib.pyplot as plt\n",
    "import seaborn as sns\n",
    "from scipy.interpolate import griddata\n",
    "from skimage import measure\n",
    "import cv2\n",
    "from tqdm import tqdm\n",
    "import h5py"
   ]
  },
  {
   "cell_type": "code",
   "execution_count": 2,
   "metadata": {},
   "outputs": [],
   "source": [
    "from sklearn.preprocessing import MinMaxScaler, StandardScaler, RobustScaler\n",
    "from sklearn.model_selection import train_test_split"
   ]
  },
  {
   "cell_type": "markdown",
   "metadata": {},
   "source": [
    "# resize first"
   ]
  },
  {
   "cell_type": "markdown",
   "metadata": {},
   "source": [
    "# 2018"
   ]
  },
  {
   "cell_type": "markdown",
   "metadata": {},
   "source": [
    "### Data Load"
   ]
  },
  {
   "cell_type": "code",
   "execution_count": 3,
   "metadata": {},
   "outputs": [
    {
     "name": "stderr",
     "output_type": "stream",
     "text": [
      "C:\\Users\\bigBro\\Anaconda3\\envs\\powerplant\\lib\\site-packages\\IPython\\core\\interactiveshell.py:3057: DtypeWarning: Columns (26) have mixed types. Specify dtype option on import or set low_memory=False.\n",
      "  interactivity=interactivity, compiler=compiler, result=result)\n"
     ]
    }
   ],
   "source": [
    "df_asos_2018 = pd.read_csv('./data/asos_2018.csv')\n",
    "df_aws_2018 = pd.read_csv('./data/aws_2018.csv')"
   ]
  },
  {
   "cell_type": "code",
   "execution_count": 4,
   "metadata": {},
   "outputs": [
    {
     "data": {
      "text/plain": [
       "((831995, 37), (4279265, 10))"
      ]
     },
     "execution_count": 4,
     "metadata": {},
     "output_type": "execute_result"
    }
   ],
   "source": [
    "df_asos_2018.shape, df_aws_2018.shape"
   ]
  },
  {
   "cell_type": "code",
   "execution_count": 5,
   "metadata": {},
   "outputs": [
    {
     "name": "stderr",
     "output_type": "stream",
     "text": [
      "C:\\Users\\bigBro\\Anaconda3\\envs\\powerplant\\lib\\site-packages\\ipykernel_launcher.py:1: FutureWarning: Sorting because non-concatenation axis is not aligned. A future version\n",
      "of pandas will change to not sort by default.\n",
      "\n",
      "To accept the future behavior, pass 'sort=False'.\n",
      "\n",
      "To retain the current behavior and silence the warning, pass 'sort=True'.\n",
      "\n",
      "  \"\"\"Entry point for launching an IPython kernel.\n"
     ]
    }
   ],
   "source": [
    "df_all_2018 = pd.concat([df_asos_2018, df_aws_2018])"
   ]
  },
  {
   "cell_type": "code",
   "execution_count": 6,
   "metadata": {},
   "outputs": [],
   "source": [
    "df_all_2018 = df_all_2018.drop('Unnamed: 0', axis=1)"
   ]
  },
  {
   "cell_type": "code",
   "execution_count": 7,
   "metadata": {},
   "outputs": [],
   "source": [
    "df_all_2018['일시'] = pd.to_datetime(df_all_2018['일시'])"
   ]
  },
  {
   "cell_type": "markdown",
   "metadata": {},
   "source": [
    "### 좌표 변환"
   ]
  },
  {
   "cell_type": "code",
   "execution_count": 8,
   "metadata": {},
   "outputs": [],
   "source": [
    "df_asos = pd.read_csv('./data/asos_kma.csv').drop('Unnamed: 0', axis=1)\n",
    "df_aws = pd.read_csv('./data/aws_kma.csv')\n",
    "df_coord = pd.concat([df_asos, df_aws])"
   ]
  },
  {
   "cell_type": "code",
   "execution_count": 9,
   "metadata": {},
   "outputs": [
    {
     "data": {
      "text/plain": [
       "Index(['Unnamed: 0', '지점', '일시', '기온(°C)', '기온 QC플래그', '강수량(mm)', '강수량 QC플래그',\n",
       "       '풍속(m/s)', '풍속 QC플래그', '풍향(16방위)', '풍향 QC플래그', '습도(%)', '습도 QC플래그',\n",
       "       '증기압(hPa)', '이슬점온도(°C)', '현지기압(hPa)', '현지기압 QC플래그', '해면기압(hPa)',\n",
       "       '해면기압 QC플래그', '일조(hr)', '일조 QC플래그', '일사(MJ/m2)', '적설(cm)', '3시간신적설(cm)',\n",
       "       '전운량(10분위)', '중하층운량(10분위)', '운형(운형약어)', '최저운고(100m )', '시정(10m)',\n",
       "       '지면상태(지면상태코드)', '현상번호(국내식)', '지면온도(°C)', '지면온도 QC플래그', '5cm 지중온도(°C)',\n",
       "       '10cm 지중온도(°C)', '20cm 지중온도(°C)', '30cm 지중온도(°C)'],\n",
       "      dtype='object')"
      ]
     },
     "execution_count": 9,
     "metadata": {},
     "output_type": "execute_result"
    }
   ],
   "source": [
    "df_asos_2018.columns"
   ]
  },
  {
   "cell_type": "code",
   "execution_count": 10,
   "metadata": {},
   "outputs": [
    {
     "data": {
      "text/plain": [
       "Index(['Unnamed: 0', '지점', '일시', '기온', '풍향', '풍속', '강수량', '현지기압', '해면기압',\n",
       "       '습도'],\n",
       "      dtype='object')"
      ]
     },
     "execution_count": 10,
     "metadata": {},
     "output_type": "execute_result"
    }
   ],
   "source": [
    "df_aws_2018.columns"
   ]
  },
  {
   "cell_type": "code",
   "execution_count": 11,
   "metadata": {},
   "outputs": [],
   "source": [
    "df_feature_2018 = df_all_2018[['지점', '일시', '기온', '풍향', '풍속', '강수량', '습도', '현지기압', '해면기압']]"
   ]
  },
  {
   "cell_type": "code",
   "execution_count": 12,
   "metadata": {},
   "outputs": [],
   "source": [
    "df_feature_2018 = pd.merge(df_feature_2018, df_coord[['지점','fixed_la', 'fixed_lo']])"
   ]
  },
  {
   "cell_type": "code",
   "execution_count": 13,
   "metadata": {},
   "outputs": [],
   "source": [
    "sc = RobustScaler()"
   ]
  },
  {
   "cell_type": "code",
   "execution_count": 14,
   "metadata": {},
   "outputs": [],
   "source": [
    "df_feature_2018[['기온', '풍향', '풍속', '강수량', '습도', '현지기압', '해면기압']] = sc.fit_transform(df_feature_2018[['기온', '풍향', '풍속', '강수량', '습도', '현지기압', '해면기압']])"
   ]
  },
  {
   "cell_type": "code",
   "execution_count": 15,
   "metadata": {},
   "outputs": [],
   "source": [
    "test_info = df_feature_2018[df_feature_2018['일시']==df_feature_2018['일시'][0]]"
   ]
  },
  {
   "cell_type": "markdown",
   "metadata": {},
   "source": [
    "#### 현지기압"
   ]
  },
  {
   "cell_type": "code",
   "execution_count": 26,
   "metadata": {},
   "outputs": [
    {
     "data": {
      "text/plain": [
       "<matplotlib.image.AxesImage at 0x1359d10be48>"
      ]
     },
     "execution_count": 26,
     "metadata": {},
     "output_type": "execute_result"
    },
    {
     "data": {
      "image/png": "[encoded data removed]",
      "text/plain": [
       "<Figure size 288x288 with 1 Axes>"
      ]
     },
     "metadata": {
      "needs_background": "light"
     },
     "output_type": "display_data"
    }
   ],
   "source": [
    "xi, yi = np.meshgrid(np.arange(0, 150, 1), np.arange(20, 170, 1))\n",
    "zi = griddata((test_info['fixed_la'].values, test_info['fixed_lo'].values), test_info['현지기압'].values, (xi, yi),method='cubic')\n",
    "mask_zi = griddata((test_info['fixed_la'].values, test_info['fixed_lo'].values), test_info['현지기압'].values, (xi, yi),method='nearest')\n",
    "zi[np.isnan(zi)] = mask_zi[np.isnan(zi)]\n",
    "zi[np.isnan(zi)] = np.nanmean(zi)\n",
    "# plt.figure(figsize=(7,10))\n",
    "# cb = plt.contourf(xi, yi, zi)\n",
    "# plt.plot(test_info['fixed_la'].values, test_info['fixed_lo'].values, 'k.', ms=1)\n",
    "# plt.colorbar(cb)\n",
    "# plt.show()\n",
    "plt.matshow(np.flipud(zi))"
   ]
  },
  {
   "cell_type": "markdown",
   "metadata": {},
   "source": [
    "### 해면기압"
   ]
  },
  {
   "cell_type": "code",
   "execution_count": 23,
   "metadata": {},
   "outputs": [
    {
     "data": {
      "text/plain": [
       "<matplotlib.image.AxesImage at 0x13584c23cc0>"
      ]
     },
     "execution_count": 23,
     "metadata": {},
     "output_type": "execute_result"
    },
    {
     "data": {
      "image/png": "[encoded data removed]",
      "text/plain": [
       "<Figure size 288x288 with 1 Axes>"
      ]
     },
     "metadata": {
      "needs_background": "light"
     },
     "output_type": "display_data"
    },
    {
     "data": {
      "image/png": "[encoded data removed]",
      "text/plain": [
       "<Figure size 288x288 with 1 Axes>"
      ]
     },
     "metadata": {
      "needs_background": "light"
     },
     "output_type": "display_data"
    }
   ],
   "source": [
    "xi, yi = np.meshgrid(np.arange(0, 150, 1), np.arange(0, 254, 1))\n",
    "zi = griddata((test_info['fixed_la'].values, test_info['fixed_lo'].values), test_info['해면기압'].values, (xi, yi),method='linear')\n",
    "mask_zi = griddata((test_info['fixed_la'].values, test_info['fixed_lo'].values), test_info['해면기압'].values, (xi, yi),method='nearest')\n",
    "zi[np.isnan(zi)] = mask_zi[np.isnan(zi)]\n",
    "zi[np.isnan(zi)] = np.nanmean(zi)\n",
    "# plt.figure(figsize=(7,10))\n",
    "# cb = plt.contourf(xi, yi, zi)\n",
    "# plt.plot(test_info['fixed_la'].values, test_info['fixed_lo'].values, 'k.', ms=1)\n",
    "# plt.colorbar(cb)\n",
    "# plt.show()\n",
    "plt.matshow(np.flipud(zi[20:170, :]))\n",
    "zi = cv2.resize(zi[20:170, :], dsize=(75, 75), interpolation=cv2.INTER_NEAREST)\n",
    "plt.matshow(np.flipud(zi))"
   ]
  },
  {
   "cell_type": "code",
   "execution_count": 16,
   "metadata": {},
   "outputs": [],
   "source": [
    "times = pd.date_range(min(df_feature_2018['일시']), max(df_feature_2018['일시']), freq='H')\n",
    "data = np.zeros((len(times), 7, 75, 75))"
   ]
  },
  {
   "cell_type": "code",
   "execution_count": 17,
   "metadata": {},
   "outputs": [
    {
     "data": {
      "text/plain": [
       "(Timestamp('2018-01-01 01:00:00', freq='H'),\n",
       " Timestamp('2019-01-01 00:00:00', freq='H'),\n",
       " 8760)"
      ]
     },
     "execution_count": 17,
     "metadata": {},
     "output_type": "execute_result"
    }
   ],
   "source": [
    "times[0], times[-1], len(times)"
   ]
  },
  {
   "cell_type": "markdown",
   "metadata": {},
   "source": [
    "### 데이터셋 생성\n",
    "### 이미지 생성 -> 다운스케일 하였음\n",
    "### 다운스케일 -> 이미지 생성도 해볼 필요 있음"
   ]
  },
  {
   "cell_type": "code",
   "execution_count": 18,
   "metadata": {},
   "outputs": [
    {
     "name": "stderr",
     "output_type": "stream",
     "text": [
      "8760it [47:13,  3.07it/s]\n"
     ]
    }
   ],
   "source": [
    "for time, i in tqdm(zip(times, range(len(times)))):\n",
    "    images = np.zeros((7, 75, 75))\n",
    "    test_info = df_feature_2018[df_feature_2018['일시']==time]\n",
    "    \n",
    "    # 기온\n",
    "    xi, yi = np.meshgrid(np.arange(0, 150, 1), np.arange(20, 170, 1))\n",
    "    zi = griddata((test_info['fixed_la'].values, test_info['fixed_lo'].values), test_info['기온'].values, (xi, yi),method='cubic')\n",
    "    mask_zi = griddata((test_info['fixed_la'].values, test_info['fixed_lo'].values), test_info['기온'].values, (xi, yi),method='nearest')\n",
    "    zi[np.isnan(zi)] = mask_zi[np.isnan(zi)]\n",
    "    zi[np.isnan(zi)] = np.nanmean(zi)\n",
    "    images[0] = cv2.resize(zi, dsize=(75, 75), interpolation=cv2.INTER_NEAREST)\n",
    "    \n",
    "    # 풍향\n",
    "    xi, yi = np.meshgrid(np.arange(0, 150, 1), np.arange(20, 170, 1))\n",
    "    zi = griddata((test_info['fixed_la'].values, test_info['fixed_lo'].values), test_info['풍향'].values, (xi, yi),method='cubic')\n",
    "    mask_zi = griddata((test_info['fixed_la'].values, test_info['fixed_lo'].values), test_info['풍향'].values, (xi, yi),method='nearest')\n",
    "    zi[np.isnan(zi)] = mask_zi[np.isnan(zi)]\n",
    "    zi[np.isnan(zi)] = np.nanmean(zi)\n",
    "    images[1] = cv2.resize(zi, dsize=(75, 75), interpolation=cv2.INTER_NEAREST)    \n",
    "    \n",
    "    # 풍속\n",
    "    xi, yi = np.meshgrid(np.arange(0, 150, 1), np.arange(20, 170, 1))\n",
    "    zi = griddata((test_info['fixed_la'].values, test_info['fixed_lo'].values), test_info['풍속'].values, (xi, yi),method='linear')\n",
    "    mask_zi = griddata((test_info['fixed_la'].values, test_info['fixed_lo'].values), test_info['풍속'].values, (xi, yi),method='nearest')\n",
    "    zi[np.isnan(zi)] = mask_zi[np.isnan(zi)]\n",
    "    zi[np.isnan(zi)] = np.nanmean(zi)\n",
    "    images[2] = cv2.resize(zi, dsize=(75, 75), interpolation=cv2.INTER_NEAREST)    \n",
    "    \n",
    "    # 강수량\n",
    "    xi, yi = np.meshgrid(np.arange(0, 150, 1), np.arange(20, 170, 1))\n",
    "    zi = griddata((test_info['fixed_la'].values, test_info['fixed_lo'].values), test_info['강수량'].values, (xi, yi),method='nearest')\n",
    "    mask_zi = griddata((test_info['fixed_la'].values, test_info['fixed_lo'].values), test_info['강수량'].values, (xi, yi),method='nearest')\n",
    "    zi[np.isnan(zi)] = mask_zi[np.isnan(zi)]\n",
    "    zi[np.isnan(zi)] = np.nanmean(zi)\n",
    "    images[3] = cv2.resize(zi, dsize=(75, 75), interpolation=cv2.INTER_NEAREST)    \n",
    "    \n",
    "    # 습도\n",
    "    xi, yi = np.meshgrid(np.arange(0, 150, 1), np.arange(20, 170, 1))\n",
    "    zi = griddata((test_info['fixed_la'].values, test_info['fixed_lo'].values), test_info['습도'].values, (xi, yi),method='linear')\n",
    "    mask_zi = griddata((test_info['fixed_la'].values, test_info['fixed_lo'].values), test_info['습도'].values, (xi, yi),method='nearest')\n",
    "    zi[np.isnan(zi)] = mask_zi[np.isnan(zi)]\n",
    "    zi[np.isnan(zi)] = np.nanmean(zi)\n",
    "    images[4] = cv2.resize(zi, dsize=(75, 75), interpolation=cv2.INTER_NEAREST)    \n",
    "    \n",
    "    # 현지기압\n",
    "    xi, yi = np.meshgrid(np.arange(0, 150, 1), np.arange(20, 170, 1))\n",
    "    zi = griddata((test_info['fixed_la'].values, test_info['fixed_lo'].values), test_info['현지기압'].values, (xi, yi),method='cubic')\n",
    "    mask_zi = griddata((test_info['fixed_la'].values, test_info['fixed_lo'].values), test_info['현지기압'].values, (xi, yi),method='nearest')\n",
    "    zi[np.isnan(zi)] = mask_zi[np.isnan(zi)]\n",
    "    zi[np.isnan(zi)] = np.nanmean(zi)\n",
    "    images[5] = cv2.resize(zi, dsize=(75, 75), interpolation=cv2.INTER_NEAREST)    \n",
    "  \n",
    "    # 해면기압\n",
    "    xi, yi = np.meshgrid(np.arange(0, 150, 1), np.arange(20, 170, 1))\n",
    "    zi = griddata((test_info['fixed_la'].values, test_info['fixed_lo'].values), test_info['해면기압'].values, (xi, yi),method='cubic')\n",
    "    mask_zi = griddata((test_info['fixed_la'].values, test_info['fixed_lo'].values), test_info['해면기압'].values, (xi, yi),method='nearest')\n",
    "    zi[np.isnan(zi)] = mask_zi[np.isnan(zi)]\n",
    "    zi[np.isnan(zi)] = np.nanmean(zi)\n",
    "    images[6] = cv2.resize(zi, dsize=(75, 75), interpolation=cv2.INTER_NEAREST)    \n",
    "    \n",
    "    data[i] = images[:,:]"
   ]
  },
  {
   "cell_type": "code",
   "execution_count": 19,
   "metadata": {},
   "outputs": [],
   "source": [
    "wind_gen = pd.read_csv('./data/wind_gen.csv').drop('Unnamed: 0', axis=1)\n",
    "wind_gen['일시'] = pd.to_datetime(wind_gen['일시'])"
   ]
  },
  {
   "cell_type": "code",
   "execution_count": 20,
   "metadata": {},
   "outputs": [],
   "source": [
    "wind_2018 = wind_gen[(wind_gen['일시'] > pd.Timestamp('2018-01-01T01')) & (wind_gen['일시'] <= pd.Timestamp('2019-01-01T01'))]"
   ]
  },
  {
   "cell_type": "code",
   "execution_count": 21,
   "metadata": {},
   "outputs": [
    {
     "data": {
      "text/plain": [
       "8760"
      ]
     },
     "execution_count": 21,
     "metadata": {},
     "output_type": "execute_result"
    }
   ],
   "source": [
    "len(wind_2018['발전량'].values)"
   ]
  },
  {
   "cell_type": "code",
   "execution_count": 22,
   "metadata": {},
   "outputs": [],
   "source": [
    "h5f = h5py.File('./data/data_2018.h5', 'w')"
   ]
  },
  {
   "cell_type": "code",
   "execution_count": 23,
   "metadata": {},
   "outputs": [],
   "source": [
    "h5f.create_dataset('total_2018', data=data)\n",
    "h5f.create_dataset('gen_2018', data=wind_2018['발전량'].values)\n",
    "h5f.close()"
   ]
  },
  {
   "cell_type": "code",
   "execution_count": 37,
   "metadata": {},
   "outputs": [],
   "source": [
    "h5f = h5py.File('./data/data_2018.h5','r')"
   ]
  },
  {
   "cell_type": "code",
   "execution_count": 38,
   "metadata": {},
   "outputs": [],
   "source": [
    "data = h5f['total_2018'][:]\n",
    "gen_data = h5f['gen_2018'][:]\n",
    "h5f.close()"
   ]
  },
  {
   "cell_type": "code",
   "execution_count": 39,
   "metadata": {},
   "outputs": [
    {
     "data": {
      "text/plain": [
       "((8760, 7, 75, 75), (8760,))"
      ]
     },
     "execution_count": 39,
     "metadata": {},
     "output_type": "execute_result"
    }
   ],
   "source": [
    "data.shape, gen_data.shape"
   ]
  },
  {
   "cell_type": "code",
   "execution_count": 28,
   "metadata": {},
   "outputs": [
    {
     "data": {
      "text/plain": [
       "<matplotlib.image.AxesImage at 0x1f91f6e7ef0>"
      ]
     },
     "execution_count": 28,
     "metadata": {},
     "output_type": "execute_result"
    },
    {
     "data": {
      "image/png": "[encoded data removed]",
      "text/plain": [
       "<Figure size 288x288 with 1 Axes>"
      ]
     },
     "metadata": {
      "needs_background": "light"
     },
     "output_type": "display_data"
    }
   ],
   "source": [
    "plt.matshow(data[0,0,:,:])"
   ]
  },
  {
   "cell_type": "markdown",
   "metadata": {},
   "source": [
    "# 2017"
   ]
  },
  {
   "cell_type": "markdown",
   "metadata": {},
   "source": [
    "### Data Load"
   ]
  },
  {
   "cell_type": "code",
   "execution_count": 29,
   "metadata": {},
   "outputs": [
    {
     "name": "stderr",
     "output_type": "stream",
     "text": [
      "C:\\Users\\bigBro\\Anaconda3\\envs\\powerplant\\lib\\site-packages\\IPython\\core\\interactiveshell.py:3057: DtypeWarning: Columns (26) have mixed types. Specify dtype option on import or set low_memory=False.\n",
      "  interactivity=interactivity, compiler=compiler, result=result)\n"
     ]
    }
   ],
   "source": [
    "df_asos_2017 = pd.read_csv('./data/asos_2017.csv')\n",
    "df_aws_2017 = pd.read_csv('./data/aws_2017.csv')"
   ]
  },
  {
   "cell_type": "code",
   "execution_count": 30,
   "metadata": {},
   "outputs": [
    {
     "data": {
      "text/plain": [
       "((419074, 37), (2180770, 10))"
      ]
     },
     "execution_count": 30,
     "metadata": {},
     "output_type": "execute_result"
    }
   ],
   "source": [
    "df_asos_2017.shape, df_aws_2017.shape"
   ]
  },
  {
   "cell_type": "code",
   "execution_count": 31,
   "metadata": {},
   "outputs": [
    {
     "name": "stderr",
     "output_type": "stream",
     "text": [
      "C:\\Users\\bigBro\\Anaconda3\\envs\\powerplant\\lib\\site-packages\\ipykernel_launcher.py:1: FutureWarning: Sorting because non-concatenation axis is not aligned. A future version\n",
      "of pandas will change to not sort by default.\n",
      "\n",
      "To accept the future behavior, pass 'sort=False'.\n",
      "\n",
      "To retain the current behavior and silence the warning, pass 'sort=True'.\n",
      "\n",
      "  \"\"\"Entry point for launching an IPython kernel.\n"
     ]
    }
   ],
   "source": [
    "df_all_2017 = pd.concat([df_asos_2017, df_aws_2017])"
   ]
  },
  {
   "cell_type": "code",
   "execution_count": 32,
   "metadata": {},
   "outputs": [],
   "source": [
    "df_all_2017 = df_all_2017.drop('Unnamed: 0', axis=1)"
   ]
  },
  {
   "cell_type": "code",
   "execution_count": 33,
   "metadata": {},
   "outputs": [],
   "source": [
    "df_all_2017['일시'] = pd.to_datetime(df_all_2017['일시'])"
   ]
  },
  {
   "cell_type": "markdown",
   "metadata": {},
   "source": [
    "### 좌표 변환"
   ]
  },
  {
   "cell_type": "code",
   "execution_count": 34,
   "metadata": {},
   "outputs": [],
   "source": [
    "df_feature_2017 = df_all_2017[['지점', '일시', '기온', '풍향', '풍속', '강수량', '습도', '현지기압', '해면기압']]"
   ]
  },
  {
   "cell_type": "code",
   "execution_count": 35,
   "metadata": {},
   "outputs": [],
   "source": [
    "df_feature_2017 = pd.merge(df_feature_2017, df_coord[['지점','fixed_la', 'fixed_lo']])"
   ]
  },
  {
   "cell_type": "code",
   "execution_count": 36,
   "metadata": {},
   "outputs": [],
   "source": [
    "times = pd.date_range(min(df_feature_2017['일시']), max(df_feature_2017['일시']), freq='H')\n",
    "data = np.zeros((len(times), 7, 75, 75))"
   ]
  },
  {
   "cell_type": "code",
   "execution_count": 37,
   "metadata": {},
   "outputs": [
    {
     "data": {
      "text/plain": [
       "(Timestamp('2017-07-01 00:00:00', freq='H'),\n",
       " Timestamp('2018-01-01 00:00:00', freq='H'),\n",
       " 4417)"
      ]
     },
     "execution_count": 37,
     "metadata": {},
     "output_type": "execute_result"
    }
   ],
   "source": [
    "times[0], times[-1], len(times)"
   ]
  },
  {
   "cell_type": "code",
   "execution_count": 38,
   "metadata": {},
   "outputs": [],
   "source": [
    "sc = RobustScaler()"
   ]
  },
  {
   "cell_type": "code",
   "execution_count": 39,
   "metadata": {},
   "outputs": [],
   "source": [
    "df_feature_2017[['기온', '풍향', '풍속', '강수량', '습도', '현지기압', '해면기압']] = sc.fit_transform(df_feature_2017[['기온', '풍향', '풍속', '강수량', '습도', '현지기압', '해면기압']])"
   ]
  },
  {
   "cell_type": "code",
   "execution_count": 40,
   "metadata": {
    "scrolled": true
   },
   "outputs": [
    {
     "name": "stderr",
     "output_type": "stream",
     "text": [
      "0it [00:00, ?it/s]C:\\Users\\bigBro\\Anaconda3\\envs\\powerplant\\lib\\site-packages\\ipykernel_launcher.py:42: RuntimeWarning: Mean of empty slice\n",
      "4417it [23:46,  3.08it/s]\n"
     ]
    }
   ],
   "source": [
    "for time, i in tqdm(zip(times, range(len(times)))):\n",
    "    images = np.zeros((7, 75, 75))\n",
    "    test_info = df_feature_2017[df_feature_2017['일시']==time]\n",
    "    \n",
    "    # 기온\n",
    "    xi, yi = np.meshgrid(np.arange(0, 150, 1), np.arange(20, 170, 1))\n",
    "    zi = griddata((test_info['fixed_la'].values, test_info['fixed_lo'].values), test_info['기온'].values, (xi, yi),method='cubic')\n",
    "    mask_zi = griddata((test_info['fixed_la'].values, test_info['fixed_lo'].values), test_info['기온'].values, (xi, yi),method='nearest')\n",
    "    zi[np.isnan(zi)] = mask_zi[np.isnan(zi)]\n",
    "    zi[np.isnan(zi)] = np.nanmean(zi)\n",
    "    images[0] = cv2.resize(zi, dsize=(75, 75), interpolation=cv2.INTER_NEAREST)\n",
    "    \n",
    "    # 풍향\n",
    "    xi, yi = np.meshgrid(np.arange(0, 150, 1), np.arange(20, 170, 1))\n",
    "    zi = griddata((test_info['fixed_la'].values, test_info['fixed_lo'].values), test_info['풍향'].values, (xi, yi),method='cubic')\n",
    "    mask_zi = griddata((test_info['fixed_la'].values, test_info['fixed_lo'].values), test_info['풍향'].values, (xi, yi),method='nearest')\n",
    "    zi[np.isnan(zi)] = mask_zi[np.isnan(zi)]\n",
    "    zi[np.isnan(zi)] = np.nanmean(zi)\n",
    "    images[1] = cv2.resize(zi, dsize=(75, 75), interpolation=cv2.INTER_NEAREST)    \n",
    "    \n",
    "    # 풍속\n",
    "    xi, yi = np.meshgrid(np.arange(0, 150, 1), np.arange(20, 170, 1))\n",
    "    zi = griddata((test_info['fixed_la'].values, test_info['fixed_lo'].values), test_info['풍속'].values, (xi, yi),method='linear')\n",
    "    mask_zi = griddata((test_info['fixed_la'].values, test_info['fixed_lo'].values), test_info['풍속'].values, (xi, yi),method='nearest')\n",
    "    zi[np.isnan(zi)] = mask_zi[np.isnan(zi)]\n",
    "    zi[np.isnan(zi)] = np.nanmean(zi)\n",
    "    images[2] = cv2.resize(zi, dsize=(75, 75), interpolation=cv2.INTER_NEAREST)    \n",
    "    \n",
    "    # 강수량\n",
    "    xi, yi = np.meshgrid(np.arange(0, 150, 1), np.arange(20, 170, 1))\n",
    "    zi = griddata((test_info['fixed_la'].values, test_info['fixed_lo'].values), test_info['강수량'].values, (xi, yi),method='nearest')\n",
    "    mask_zi = griddata((test_info['fixed_la'].values, test_info['fixed_lo'].values), test_info['강수량'].values, (xi, yi),method='nearest')\n",
    "    zi[np.isnan(zi)] = mask_zi[np.isnan(zi)]\n",
    "    zi[np.isnan(zi)] = np.nanmean(zi)\n",
    "    images[3] = cv2.resize(zi, dsize=(75, 75), interpolation=cv2.INTER_NEAREST)    \n",
    "    \n",
    "    # 습도\n",
    "    xi, yi = np.meshgrid(np.arange(0, 150, 1), np.arange(20, 170, 1))\n",
    "    zi = griddata((test_info['fixed_la'].values, test_info['fixed_lo'].values), test_info['습도'].values, (xi, yi),method='linear')\n",
    "    mask_zi = griddata((test_info['fixed_la'].values, test_info['fixed_lo'].values), test_info['습도'].values, (xi, yi),method='nearest')\n",
    "    zi[np.isnan(zi)] = mask_zi[np.isnan(zi)]\n",
    "    zi[np.isnan(zi)] = np.nanmean(zi)\n",
    "    images[4] = cv2.resize(zi, dsize=(75, 75), interpolation=cv2.INTER_NEAREST)    \n",
    "    \n",
    "    # 현지기압\n",
    "    xi, yi = np.meshgrid(np.arange(0, 150, 1), np.arange(20, 170, 1))\n",
    "    zi = griddata((test_info['fixed_la'].values, test_info['fixed_lo'].values), test_info['현지기압'].values, (xi, yi),method='cubic')\n",
    "    mask_zi = griddata((test_info['fixed_la'].values, test_info['fixed_lo'].values), test_info['현지기압'].values, (xi, yi),method='nearest')\n",
    "    zi[np.isnan(zi)] = mask_zi[np.isnan(zi)]\n",
    "    zi[np.isnan(zi)] = np.nanmean(zi)\n",
    "    images[5] = cv2.resize(zi, dsize=(75, 75), interpolation=cv2.INTER_NEAREST)    \n",
    "  \n",
    "    # 해면기압\n",
    "    xi, yi = np.meshgrid(np.arange(0, 150, 1), np.arange(20, 170, 1))\n",
    "    zi = griddata((test_info['fixed_la'].values, test_info['fixed_lo'].values), test_info['해면기압'].values, (xi, yi),method='cubic')\n",
    "    mask_zi = griddata((test_info['fixed_la'].values, test_info['fixed_lo'].values), test_info['해면기압'].values, (xi, yi),method='nearest')\n",
    "    zi[np.isnan(zi)] = mask_zi[np.isnan(zi)]\n",
    "    zi[np.isnan(zi)] = np.nanmean(zi)\n",
    "    images[6] = cv2.resize(zi, dsize=(75, 75), interpolation=cv2.INTER_NEAREST)    \n",
    "    \n",
    "    data[i] = images[:,:]"
   ]
  },
  {
   "cell_type": "code",
   "execution_count": 41,
   "metadata": {},
   "outputs": [],
   "source": [
    "wind_gen = pd.read_csv('./data/wind_gen.csv').drop('Unnamed: 0', axis=1)\n",
    "wind_gen['일시'] = pd.to_datetime(wind_gen['일시'])"
   ]
  },
  {
   "cell_type": "code",
   "execution_count": 42,
   "metadata": {},
   "outputs": [
    {
     "data": {
      "text/html": [
       "<div>\n",
       "<style scoped>\n",
       "    .dataframe tbody tr th:only-of-type {\n",
       "        vertical-align: middle;\n",
       "    }\n",
       "\n",
       "    .dataframe tbody tr th {\n",
       "        vertical-align: top;\n",
       "    }\n",
       "\n",
       "    .dataframe thead th {\n",
       "        text-align: right;\n",
       "    }\n",
       "</style>\n",
       "<table border=\"1\" class=\"dataframe\">\n",
       "  <thead>\n",
       "    <tr style=\"text-align: right;\">\n",
       "      <th></th>\n",
       "      <th>일시</th>\n",
       "      <th>발전량</th>\n",
       "    </tr>\n",
       "  </thead>\n",
       "  <tbody>\n",
       "    <tr>\n",
       "      <th>0</th>\n",
       "      <td>2017-07-01 01:00:00</td>\n",
       "      <td>1.09776</td>\n",
       "    </tr>\n",
       "    <tr>\n",
       "      <th>1</th>\n",
       "      <td>2017-07-01 02:00:00</td>\n",
       "      <td>1.38600</td>\n",
       "    </tr>\n",
       "    <tr>\n",
       "      <th>2</th>\n",
       "      <td>2017-07-01 03:00:00</td>\n",
       "      <td>0.54600</td>\n",
       "    </tr>\n",
       "    <tr>\n",
       "      <th>3</th>\n",
       "      <td>2017-07-01 04:00:00</td>\n",
       "      <td>0.00000</td>\n",
       "    </tr>\n",
       "    <tr>\n",
       "      <th>4</th>\n",
       "      <td>2017-07-01 05:00:00</td>\n",
       "      <td>7.16832</td>\n",
       "    </tr>\n",
       "  </tbody>\n",
       "</table>\n",
       "</div>"
      ],
      "text/plain": [
       "                   일시      발전량\n",
       "0 2017-07-01 01:00:00  1.09776\n",
       "1 2017-07-01 02:00:00  1.38600\n",
       "2 2017-07-01 03:00:00  0.54600\n",
       "3 2017-07-01 04:00:00  0.00000\n",
       "4 2017-07-01 05:00:00  7.16832"
      ]
     },
     "execution_count": 42,
     "metadata": {},
     "output_type": "execute_result"
    }
   ],
   "source": [
    "wind_gen.head()"
   ]
  },
  {
   "cell_type": "code",
   "execution_count": 43,
   "metadata": {},
   "outputs": [],
   "source": [
    "wind_2017 = wind_gen[wind_gen['일시'] <= pd.Timestamp('2018-01-01T01')]"
   ]
  },
  {
   "cell_type": "code",
   "execution_count": 44,
   "metadata": {},
   "outputs": [
    {
     "data": {
      "text/plain": [
       "4417"
      ]
     },
     "execution_count": 44,
     "metadata": {},
     "output_type": "execute_result"
    }
   ],
   "source": [
    "len(wind_2017['발전량'].values)"
   ]
  },
  {
   "cell_type": "code",
   "execution_count": 45,
   "metadata": {},
   "outputs": [],
   "source": [
    "h5f = h5py.File('./data/data_2017.h5', 'w')"
   ]
  },
  {
   "cell_type": "code",
   "execution_count": 46,
   "metadata": {},
   "outputs": [],
   "source": [
    "h5f.create_dataset('total_2017', data=data)\n",
    "h5f.create_dataset('gen_2017', data=wind_2017['발전량'].values)\n",
    "h5f.close()"
   ]
  },
  {
   "cell_type": "markdown",
   "metadata": {},
   "source": [
    "# 2019"
   ]
  },
  {
   "cell_type": "markdown",
   "metadata": {},
   "source": [
    "### Data Load"
   ]
  },
  {
   "cell_type": "code",
   "execution_count": 75,
   "metadata": {},
   "outputs": [
    {
     "name": "stderr",
     "output_type": "stream",
     "text": [
      "C:\\Users\\bigBro\\Anaconda3\\envs\\powerplant\\lib\\site-packages\\IPython\\core\\interactiveshell.py:3057: DtypeWarning: Columns (26) have mixed types. Specify dtype option on import or set low_memory=False.\n",
      "  interactivity=interactivity, compiler=compiler, result=result)\n"
     ]
    }
   ],
   "source": [
    "df_asos_2019 = pd.read_csv('./data/asos_2019.csv')\n",
    "df_aws_2019 = pd.read_csv('./data/aws_2019.csv')"
   ]
  },
  {
   "cell_type": "code",
   "execution_count": 76,
   "metadata": {},
   "outputs": [
    {
     "data": {
      "text/plain": [
       "((528691, 37), (2501036, 10))"
      ]
     },
     "execution_count": 76,
     "metadata": {},
     "output_type": "execute_result"
    }
   ],
   "source": [
    "df_asos_2019.shape, df_aws_2019.shape"
   ]
  },
  {
   "cell_type": "code",
   "execution_count": 77,
   "metadata": {},
   "outputs": [
    {
     "name": "stderr",
     "output_type": "stream",
     "text": [
      "C:\\Users\\bigBro\\Anaconda3\\envs\\powerplant\\lib\\site-packages\\ipykernel_launcher.py:1: FutureWarning: Sorting because non-concatenation axis is not aligned. A future version\n",
      "of pandas will change to not sort by default.\n",
      "\n",
      "To accept the future behavior, pass 'sort=False'.\n",
      "\n",
      "To retain the current behavior and silence the warning, pass 'sort=True'.\n",
      "\n",
      "  \"\"\"Entry point for launching an IPython kernel.\n"
     ]
    }
   ],
   "source": [
    "df_all_2019 = pd.concat([df_asos_2019, df_aws_2019])"
   ]
  },
  {
   "cell_type": "code",
   "execution_count": 78,
   "metadata": {},
   "outputs": [],
   "source": [
    "df_all_2019 = df_all_2019.drop('Unnamed: 0', axis=1)"
   ]
  },
  {
   "cell_type": "code",
   "execution_count": 79,
   "metadata": {},
   "outputs": [],
   "source": [
    "df_all_2019['일시'] = pd.to_datetime(df_all_2019['일시'])"
   ]
  },
  {
   "cell_type": "markdown",
   "metadata": {},
   "source": [
    "### 좌표 변환"
   ]
  },
  {
   "cell_type": "code",
   "execution_count": 80,
   "metadata": {},
   "outputs": [],
   "source": [
    "df_feature_2019 = df_all_2019[['지점', '일시', '기온', '풍향', '풍속', '강수량', '습도', '현지기압', '해면기압']]"
   ]
  },
  {
   "cell_type": "code",
   "execution_count": 81,
   "metadata": {},
   "outputs": [],
   "source": [
    "df_feature_2019 = pd.merge(df_feature_2019, df_coord[['지점','fixed_la', 'fixed_lo']])"
   ]
  },
  {
   "cell_type": "code",
   "execution_count": 82,
   "metadata": {},
   "outputs": [],
   "source": [
    "times = pd.date_range(min(df_feature_2019['일시']), max(df_feature_2019['일시']), freq='H')\n",
    "data = np.zeros((len(times), 7, 75, 75))"
   ]
  },
  {
   "cell_type": "code",
   "execution_count": 83,
   "metadata": {},
   "outputs": [
    {
     "data": {
      "text/plain": [
       "(Timestamp('2019-01-01 01:00:00', freq='H'),\n",
       " Timestamp('2019-08-21 00:00:00', freq='H'),\n",
       " 5568)"
      ]
     },
     "execution_count": 83,
     "metadata": {},
     "output_type": "execute_result"
    }
   ],
   "source": [
    "times[0], times[-1], len(times)"
   ]
  },
  {
   "cell_type": "code",
   "execution_count": 84,
   "metadata": {},
   "outputs": [],
   "source": [
    "sc = RobustScaler()"
   ]
  },
  {
   "cell_type": "code",
   "execution_count": 85,
   "metadata": {},
   "outputs": [],
   "source": [
    "times = pd.date_range(min(df_feature_2019['일시']), pd.Timestamp('2019-07-01T00'), freq='H')\n",
    "data = np.zeros((len(times), 7, 75, 75))"
   ]
  },
  {
   "cell_type": "code",
   "execution_count": 86,
   "metadata": {},
   "outputs": [
    {
     "data": {
      "text/plain": [
       "(Timestamp('2019-01-01 01:00:00', freq='H'),\n",
       " Timestamp('2019-07-01 00:00:00', freq='H'),\n",
       " 4344)"
      ]
     },
     "execution_count": 86,
     "metadata": {},
     "output_type": "execute_result"
    }
   ],
   "source": [
    "times[0], times[-1], len(times)"
   ]
  },
  {
   "cell_type": "code",
   "execution_count": 87,
   "metadata": {},
   "outputs": [],
   "source": [
    "df_feature_2019[['기온', '풍향', '풍속', '강수량', '습도', '현지기압', '해면기압']] = sc.fit_transform(df_feature_2019[['기온', '풍향', '풍속', '강수량', '습도', '현지기압', '해면기압']])"
   ]
  },
  {
   "cell_type": "code",
   "execution_count": 88,
   "metadata": {
    "scrolled": true
   },
   "outputs": [
    {
     "name": "stderr",
     "output_type": "stream",
     "text": [
      "4344it [23:22,  3.08it/s]\n"
     ]
    }
   ],
   "source": [
    "for time, i in tqdm(zip(times, range(len(times)))):\n",
    "    images = np.zeros((7, 75, 75))\n",
    "    test_info = df_feature_2019[df_feature_2019['일시']==time]\n",
    "    \n",
    "    # 기온\n",
    "    xi, yi = np.meshgrid(np.arange(0, 150, 1), np.arange(20, 170, 1))\n",
    "    zi = griddata((test_info['fixed_la'].values, test_info['fixed_lo'].values), test_info['기온'].values, (xi, yi),method='cubic')\n",
    "    mask_zi = griddata((test_info['fixed_la'].values, test_info['fixed_lo'].values), test_info['기온'].values, (xi, yi),method='nearest')\n",
    "    zi[np.isnan(zi)] = mask_zi[np.isnan(zi)]\n",
    "    zi[np.isnan(zi)] = np.nanmean(zi)\n",
    "    images[0] = cv2.resize(zi, dsize=(75, 75), interpolation=cv2.INTER_NEAREST)\n",
    "    \n",
    "    # 풍향\n",
    "    xi, yi = np.meshgrid(np.arange(0, 150, 1), np.arange(20, 170, 1))\n",
    "    zi = griddata((test_info['fixed_la'].values, test_info['fixed_lo'].values), test_info['풍향'].values, (xi, yi),method='cubic')\n",
    "    mask_zi = griddata((test_info['fixed_la'].values, test_info['fixed_lo'].values), test_info['풍향'].values, (xi, yi),method='nearest')\n",
    "    zi[np.isnan(zi)] = mask_zi[np.isnan(zi)]\n",
    "    zi[np.isnan(zi)] = np.nanmean(zi)\n",
    "    images[1] = cv2.resize(zi, dsize=(75, 75), interpolation=cv2.INTER_NEAREST)    \n",
    "    \n",
    "    # 풍속\n",
    "    xi, yi = np.meshgrid(np.arange(0, 150, 1), np.arange(20, 170, 1))\n",
    "    zi = griddata((test_info['fixed_la'].values, test_info['fixed_lo'].values), test_info['풍속'].values, (xi, yi),method='linear')\n",
    "    mask_zi = griddata((test_info['fixed_la'].values, test_info['fixed_lo'].values), test_info['풍속'].values, (xi, yi),method='nearest')\n",
    "    zi[np.isnan(zi)] = mask_zi[np.isnan(zi)]\n",
    "    zi[np.isnan(zi)] = np.nanmean(zi)\n",
    "    images[2] = cv2.resize(zi, dsize=(75, 75), interpolation=cv2.INTER_NEAREST)    \n",
    "    \n",
    "    # 강수량\n",
    "    xi, yi = np.meshgrid(np.arange(0, 150, 1), np.arange(20, 170, 1))\n",
    "    zi = griddata((test_info['fixed_la'].values, test_info['fixed_lo'].values), test_info['강수량'].values, (xi, yi),method='nearest')\n",
    "    mask_zi = griddata((test_info['fixed_la'].values, test_info['fixed_lo'].values), test_info['강수량'].values, (xi, yi),method='nearest')\n",
    "    zi[np.isnan(zi)] = mask_zi[np.isnan(zi)]\n",
    "    zi[np.isnan(zi)] = np.nanmean(zi)\n",
    "    images[3] = cv2.resize(zi, dsize=(75, 75), interpolation=cv2.INTER_NEAREST)    \n",
    "    \n",
    "    # 습도\n",
    "    xi, yi = np.meshgrid(np.arange(0, 150, 1), np.arange(20, 170, 1))\n",
    "    zi = griddata((test_info['fixed_la'].values, test_info['fixed_lo'].values), test_info['습도'].values, (xi, yi),method='linear')\n",
    "    mask_zi = griddata((test_info['fixed_la'].values, test_info['fixed_lo'].values), test_info['습도'].values, (xi, yi),method='nearest')\n",
    "    zi[np.isnan(zi)] = mask_zi[np.isnan(zi)]\n",
    "    zi[np.isnan(zi)] = np.nanmean(zi)\n",
    "    images[4] = cv2.resize(zi, dsize=(75, 75), interpolation=cv2.INTER_NEAREST)    \n",
    "    \n",
    "    # 현지기압\n",
    "    xi, yi = np.meshgrid(np.arange(0, 150, 1), np.arange(20, 170, 1))\n",
    "    zi = griddata((test_info['fixed_la'].values, test_info['fixed_lo'].values), test_info['현지기압'].values, (xi, yi),method='cubic')\n",
    "    mask_zi = griddata((test_info['fixed_la'].values, test_info['fixed_lo'].values), test_info['현지기압'].values, (xi, yi),method='nearest')\n",
    "    zi[np.isnan(zi)] = mask_zi[np.isnan(zi)]\n",
    "    zi[np.isnan(zi)] = np.nanmean(zi)\n",
    "    images[5] = cv2.resize(zi, dsize=(75, 75), interpolation=cv2.INTER_NEAREST)    \n",
    "  \n",
    "    # 해면기압\n",
    "    xi, yi = np.meshgrid(np.arange(0, 150, 1), np.arange(20, 170, 1))\n",
    "    zi = griddata((test_info['fixed_la'].values, test_info['fixed_lo'].values), test_info['해면기압'].values, (xi, yi),method='cubic')\n",
    "    mask_zi = griddata((test_info['fixed_la'].values, test_info['fixed_lo'].values), test_info['해면기압'].values, (xi, yi),method='nearest')\n",
    "    zi[np.isnan(zi)] = mask_zi[np.isnan(zi)]\n",
    "    zi[np.isnan(zi)] = np.nanmean(zi)\n",
    "    images[6] = cv2.resize(zi, dsize=(75, 75), interpolation=cv2.INTER_NEAREST) \n",
    "    \n",
    "    data[i] = images[:,:]"
   ]
  },
  {
   "cell_type": "code",
   "execution_count": 92,
   "metadata": {},
   "outputs": [],
   "source": [
    "data = data[:-1]"
   ]
  },
  {
   "cell_type": "code",
   "execution_count": 93,
   "metadata": {},
   "outputs": [
    {
     "data": {
      "text/plain": [
       "(4343, 7, 75, 75)"
      ]
     },
     "execution_count": 93,
     "metadata": {},
     "output_type": "execute_result"
    }
   ],
   "source": [
    "data.shape"
   ]
  },
  {
   "cell_type": "code",
   "execution_count": 89,
   "metadata": {},
   "outputs": [],
   "source": [
    "wind_gen = pd.read_csv('./data/wind_gen.csv').drop('Unnamed: 0', axis=1)\n",
    "wind_gen['일시'] = pd.to_datetime(wind_gen['일시'])"
   ]
  },
  {
   "cell_type": "code",
   "execution_count": 90,
   "metadata": {},
   "outputs": [],
   "source": [
    "wind_2019 = wind_gen[(wind_gen['일시'] > pd.Timestamp('2019-01-01T01')) & (wind_gen['일시'] <= pd.Timestamp('2019-07-01T01'))]\n",
    "len(wind_2019['발전량'].values)"
   ]
  },
  {
   "cell_type": "code",
   "execution_count": 94,
   "metadata": {},
   "outputs": [
    {
     "data": {
      "text/html": [
       "<div>\n",
       "<style scoped>\n",
       "    .dataframe tbody tr th:only-of-type {\n",
       "        vertical-align: middle;\n",
       "    }\n",
       "\n",
       "    .dataframe tbody tr th {\n",
       "        vertical-align: top;\n",
       "    }\n",
       "\n",
       "    .dataframe thead th {\n",
       "        text-align: right;\n",
       "    }\n",
       "</style>\n",
       "<table border=\"1\" class=\"dataframe\">\n",
       "  <thead>\n",
       "    <tr style=\"text-align: right;\">\n",
       "      <th></th>\n",
       "      <th>일시</th>\n",
       "      <th>발전량</th>\n",
       "    </tr>\n",
       "  </thead>\n",
       "  <tbody>\n",
       "    <tr>\n",
       "      <th>13177</th>\n",
       "      <td>2019-01-01 02:00:00</td>\n",
       "      <td>16.07928</td>\n",
       "    </tr>\n",
       "    <tr>\n",
       "      <th>13178</th>\n",
       "      <td>2019-01-01 03:00:00</td>\n",
       "      <td>14.51448</td>\n",
       "    </tr>\n",
       "    <tr>\n",
       "      <th>13179</th>\n",
       "      <td>2019-01-01 04:00:00</td>\n",
       "      <td>17.10600</td>\n",
       "    </tr>\n",
       "    <tr>\n",
       "      <th>13180</th>\n",
       "      <td>2019-01-01 05:00:00</td>\n",
       "      <td>23.82240</td>\n",
       "    </tr>\n",
       "    <tr>\n",
       "      <th>13181</th>\n",
       "      <td>2019-01-01 06:00:00</td>\n",
       "      <td>30.91200</td>\n",
       "    </tr>\n",
       "  </tbody>\n",
       "</table>\n",
       "</div>"
      ],
      "text/plain": [
       "                       일시       발전량\n",
       "13177 2019-01-01 02:00:00  16.07928\n",
       "13178 2019-01-01 03:00:00  14.51448\n",
       "13179 2019-01-01 04:00:00  17.10600\n",
       "13180 2019-01-01 05:00:00  23.82240\n",
       "13181 2019-01-01 06:00:00  30.91200"
      ]
     },
     "execution_count": 94,
     "metadata": {},
     "output_type": "execute_result"
    }
   ],
   "source": [
    "wind_2019.head()"
   ]
  },
  {
   "cell_type": "code",
   "execution_count": 95,
   "metadata": {},
   "outputs": [],
   "source": [
    "h5f = h5py.File('./data/data_2019.h5', 'w')"
   ]
  },
  {
   "cell_type": "code",
   "execution_count": 96,
   "metadata": {},
   "outputs": [],
   "source": [
    "h5f.create_dataset('total_2019', data=data)\n",
    "h5f.create_dataset('gen_2019', data=wind_2019['발전량'].values)\n",
    "h5f.close()"
   ]
  }
 ],
 "metadata": {
  "kernelspec": {
   "display_name": "Python 3",
   "language": "python",
   "name": "python3"
  },
  "language_info": {
   "codemirror_mode": {
    "name": "ipython",
    "version": 3
   },
   "file_extension": ".py",
   "mimetype": "text/x-python",
   "name": "python",
   "nbconvert_exporter": "python",
   "pygments_lexer": "ipython3",
   "version": "3.7.3"
  }
 },
 "nbformat": 4,
 "nbformat_minor": 4
}
