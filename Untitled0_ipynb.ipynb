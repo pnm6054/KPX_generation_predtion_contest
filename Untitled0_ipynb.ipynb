{
  "nbformat": 4,
  "nbformat_minor": 0,
  "metadata": {
    "colab": {
      "name": "Untitled0.ipynb의 사본의 사본",
      "version": "0.3.2",
      "provenance": [],
      "collapsed_sections": [
        "RXNP6dn7hKVT"
      ],
      "toc_visible": true,
      "machine_shape": "hm"
    },
    "kernelspec": {
      "name": "python3",
      "display_name": "Python 3"
    },
    "accelerator": "GPU"
  },
  "cells": [
    {
      "cell_type": "code",
      "metadata": {
        "id": "ZUjY3WAHne0M",
        "colab_type": "code",
        "colab": {
          "base_uri": "https://localhost:8080/",
          "height": 35
        },
        "outputId": "c0100794-aacd-4bcf-d22a-9a96c09642ff"
      },
      "source": [
        "from google.colab import drive\n",
        "drive.mount('/content/gdrive')"
      ],
      "execution_count": 1,
      "outputs": [
        {
          "output_type": "stream",
          "text": [
            "Drive already mounted at /content/gdrive; to attempt to forcibly remount, call drive.mount(\"/content/gdrive\", force_remount=True).\n"
          ],
          "name": "stdout"
        }
      ]
    },
    {
      "cell_type": "code",
      "metadata": {
        "id": "yHB4-H9JnsEc",
        "colab_type": "code",
        "colab": {
          "base_uri": "https://localhost:8080/",
          "height": 73
        },
        "outputId": "b712ecaa-b104-4651-8d49-d6043da00018"
      },
      "source": [
        "import h5py\n",
        "import pandas as pd\n",
        "import numpy as np\n",
        "import matplotlib.pyplot as plt\n",
        "from sklearn.externals import joblib\n",
        "from sklearn.preprocessing import RobustScaler"
      ],
      "execution_count": 2,
      "outputs": [
        {
          "output_type": "stream",
          "text": [
            "/usr/local/lib/python3.6/dist-packages/sklearn/externals/joblib/__init__.py:15: DeprecationWarning: sklearn.externals.joblib is deprecated in 0.21 and will be removed in 0.23. Please import this functionality directly from joblib, which can be installed with: pip install joblib. If this warning is raised when loading pickled models, you may need to re-serialize those models with scikit-learn 0.21+.\n",
            "  warnings.warn(msg, category=DeprecationWarning)\n"
          ],
          "name": "stderr"
        }
      ]
    },
    {
      "cell_type": "code",
      "metadata": {
        "id": "nwLGpxUwnirM",
        "colab_type": "code",
        "outputId": "7e9c892a-ce58-47ea-c8fd-fa90e0ee72e7",
        "colab": {
          "base_uri": "https://localhost:8080/",
          "height": 35
        }
      },
      "source": [
        "from keras.backend.tensorflow_backend import set_session\n",
        "from keras.backend.tensorflow_backend import clear_session\n",
        "from keras.backend.tensorflow_backend import get_session\n",
        "import gc\n",
        "import tensorflow\n",
        "\n",
        "# Reset Keras Session\n",
        "def reset_keras():\n",
        "    sess = get_session()\n",
        "    clear_session()\n",
        "    sess.close()\n",
        "    sess = get_session()\n",
        "\n",
        "    try:\n",
        "        del classifier # this is from global space - change this as you need\n",
        "    except:\n",
        "        pass\n",
        "\n",
        "    print(gc.collect()) # if it's done something you should see a number being outputted\n",
        "\n",
        "    # use the same config as you used to create the session\n",
        "    config = tensorflow.ConfigProto()\n",
        "    config.gpu_options.per_process_gpu_memory_fraction = 1\n",
        "    config.gpu_options.visible_device_list = \"0\"\n",
        "    set_session(tensorflow.Session(config=config))"
      ],
      "execution_count": 3,
      "outputs": [
        {
          "output_type": "stream",
          "text": [
            "Using TensorFlow backend.\n"
          ],
          "name": "stderr"
        }
      ]
    },
    {
      "cell_type": "code",
      "metadata": {
        "id": "NXfdmv4Xnn7c",
        "colab_type": "code",
        "colab": {}
      },
      "source": [
        "from keras import Sequential\n",
        "from keras.backend import sum\n",
        "from keras.layers import ConvLSTM2D, BatchNormalization, Conv3D, AveragePooling3D, Reshape,Dense,AveragePooling2D,GlobalAveragePooling2D, GlobalAveragePooling3D, Conv2D, MaxPooling2D, Flatten, TimeDistributed, Lambda, Dropout\n",
        "from keras.callbacks import EarlyStopping, ModelCheckpoint, ReduceLROnPlateau\n",
        "from keras.optimizers import rmsprop, adam\n",
        "from keras.models import load_model"
      ],
      "execution_count": 0,
      "outputs": []
    },
    {
      "cell_type": "code",
      "metadata": {
        "id": "yQ3xs-UNJh5g",
        "colab_type": "code",
        "colab": {}
      },
      "source": [
        "h5f = h5py.File('./gdrive/My Drive/Colab Notebooks/ver2/next_frame/total_data_ro.h5', 'r')\n",
        "data_train = h5f['total_2018'][:]\n",
        "gen_data_train = h5f['gen_2018'][:]\n",
        "data_val = h5f['total_2017'][:]\n",
        "gen_data_val = h5f['gen_2017'][:]\n",
        "h5f.close()"
      ],
      "execution_count": 0,
      "outputs": []
    },
    {
      "cell_type": "code",
      "metadata": {
        "id": "L16neuowHT6K",
        "colab_type": "code",
        "colab": {
          "base_uri": "https://localhost:8080/",
          "height": 73
        },
        "outputId": "641f4f14-e1ac-4962-f1ae-bb203ef58de8"
      },
      "source": [
        "sc = joblib.load('./scaler_gen.pkl')\n",
        "gen_data_train = sc.transform(gen_data_train.reshape(1, -1))\n",
        "gen_data_train = gen_data_train.reshape(-1, 1)\n",
        "gen_data_val = sc.transform(gen_data_val.reshape(1, -1))\n",
        "gen_data_val = gen_data_val.reshape(-1, 1)"
      ],
      "execution_count": 6,
      "outputs": [
        {
          "output_type": "stream",
          "text": [
            "/usr/local/lib/python3.6/dist-packages/sklearn/base.py:306: UserWarning: Trying to unpickle estimator RobustScaler from version 0.21.2 when using version 0.21.3. This might lead to breaking code or invalid results. Use at your own risk.\n",
            "  UserWarning)\n"
          ],
          "name": "stderr"
        }
      ]
    },
    {
      "cell_type": "code",
      "metadata": {
        "id": "0JJna4eEoJ2u",
        "colab_type": "code",
        "colab": {}
      },
      "source": [
        "data_train = np.rollaxis(data_train, 1, 4)\n",
        "data_val = np.rollaxis(data_val, 1, 4)"
      ],
      "execution_count": 0,
      "outputs": []
    },
    {
      "cell_type": "code",
      "metadata": {
        "id": "65yTWCfS32FH",
        "colab_type": "code",
        "colab": {}
      },
      "source": [
        "callbacks_list = [\n",
        "    ReduceLROnPlateau(\n",
        "        monitor='val_loss',\n",
        "        factor=0.1,\n",
        "        patience=5\n",
        "    ),\n",
        "    ModelCheckpoint(\n",
        "        filepath='best_conv1x1.h5',\n",
        "        monitor='val_loss',\n",
        "        save_best_only=True\n",
        "    )\n",
        "]"
      ],
      "execution_count": 0,
      "outputs": []
    },
    {
      "cell_type": "code",
      "metadata": {
        "id": "bQJnyRd649VR",
        "colab_type": "code",
        "colab": {}
      },
      "source": [
        "def generator(data, target, lookback, delay, min_index, max_index, shuffle=False, batch_size=128):\n",
        "    if max_index is None:\n",
        "        max_index = len(data) - delay - 1\n",
        "    i = min_index + lookback\n",
        "    while True:\n",
        "        if shuffle:\n",
        "            rows = np.random.randint(min_index + lookback, max_index, size=batch_size)\n",
        "        else:\n",
        "            if i + batch_size >= max_index:\n",
        "                i = min_index + lookback\n",
        "            rows = np.arange(i, min(i + batch_size, max_index))\n",
        "            i += len(rows)\n",
        "        \n",
        "        samples = np.zeros((len(rows), lookback, data.shape[-3], data.shape[-2], data.shape[-1]))\n",
        "        targets = np.zeros((len(rows)))\n",
        "        \n",
        "        for j, row in enumerate(rows):\n",
        "            indices = range(rows[j] - lookback, rows[j])\n",
        "            samples[j] = data[indices]\n",
        "            targets[j] = target[rows[j] + delay - 1]\n",
        "        yield samples, targets"
      ],
      "execution_count": 0,
      "outputs": []
    },
    {
      "cell_type": "code",
      "metadata": {
        "id": "XujLeUWOoTD_",
        "colab_type": "code",
        "colab": {}
      },
      "source": [
        "train_gen = generator(data_train, gen_data_train, 72, 0, 0, None, shuffle=True, batch_size=20)\n",
        "val_gen = generator(data_val, gen_data_val, 72, 0, 0, None, shuffle=True, batch_size=20)"
      ],
      "execution_count": 0,
      "outputs": []
    },
    {
      "cell_type": "code",
      "metadata": {
        "id": "5pFrz2vDGgNx",
        "colab_type": "code",
        "colab": {
          "base_uri": "https://localhost:8080/",
          "height": 613
        },
        "outputId": "0c24dd67-8c0e-454f-dfa5-262cac074bf3"
      },
      "source": [
        "model = Sequential()\n",
        "\n",
        "model.add(ConvLSTM2D(filters=1, kernel_size=(3, 3),\n",
        "                   input_shape=(None, 75, 75, 10),\n",
        "                    data_format='channels_last',\n",
        "                   padding='same'))\n",
        "model.add(BatchNormalization())\n",
        "\n",
        "model.add(Flatten())\n",
        "\n",
        "model.add(Dense(units=32, activation='relu'))\n",
        "model.add(Dense(units=1))\n",
        "\n",
        "model.compile(optimizer=rmsprop(lr=0.001), loss='mae')\n",
        "model.summary()"
      ],
      "execution_count": 11,
      "outputs": [
        {
          "output_type": "stream",
          "text": [
            "WARNING: Logging before flag parsing goes to stderr.\n",
            "W0829 06:49:03.310692 140049867868032 deprecation_wrapper.py:119] From /usr/local/lib/python3.6/dist-packages/keras/backend/tensorflow_backend.py:74: The name tf.get_default_graph is deprecated. Please use tf.compat.v1.get_default_graph instead.\n",
            "\n",
            "W0829 06:49:03.365722 140049867868032 deprecation_wrapper.py:119] From /usr/local/lib/python3.6/dist-packages/keras/backend/tensorflow_backend.py:517: The name tf.placeholder is deprecated. Please use tf.compat.v1.placeholder instead.\n",
            "\n",
            "W0829 06:49:03.372657 140049867868032 deprecation_wrapper.py:119] From /usr/local/lib/python3.6/dist-packages/keras/backend/tensorflow_backend.py:4138: The name tf.random_uniform is deprecated. Please use tf.random.uniform instead.\n",
            "\n",
            "W0829 06:49:03.651460 140049867868032 deprecation_wrapper.py:119] From /usr/local/lib/python3.6/dist-packages/keras/backend/tensorflow_backend.py:174: The name tf.get_default_session is deprecated. Please use tf.compat.v1.get_default_session instead.\n",
            "\n",
            "W0829 06:49:03.652808 140049867868032 deprecation_wrapper.py:119] From /usr/local/lib/python3.6/dist-packages/keras/backend/tensorflow_backend.py:181: The name tf.ConfigProto is deprecated. Please use tf.compat.v1.ConfigProto instead.\n",
            "\n",
            "W0829 06:49:07.160927 140049867868032 deprecation_wrapper.py:119] From /usr/local/lib/python3.6/dist-packages/keras/backend/tensorflow_backend.py:1834: The name tf.nn.fused_batch_norm is deprecated. Please use tf.compat.v1.nn.fused_batch_norm instead.\n",
            "\n",
            "W0829 06:49:07.292213 140049867868032 deprecation_wrapper.py:119] From /usr/local/lib/python3.6/dist-packages/keras/optimizers.py:790: The name tf.train.Optimizer is deprecated. Please use tf.compat.v1.train.Optimizer instead.\n",
            "\n"
          ],
          "name": "stderr"
        },
        {
          "output_type": "stream",
          "text": [
            "_________________________________________________________________\n",
            "Layer (type)                 Output Shape              Param #   \n",
            "=================================================================\n",
            "conv_lst_m2d_1 (ConvLSTM2D)  (None, 75, 75, 1)         400       \n",
            "_________________________________________________________________\n",
            "batch_normalization_1 (Batch (None, 75, 75, 1)         4         \n",
            "_________________________________________________________________\n",
            "flatten_1 (Flatten)          (None, 5625)              0         \n",
            "_________________________________________________________________\n",
            "dense_1 (Dense)              (None, 32)                180032    \n",
            "_________________________________________________________________\n",
            "dense_2 (Dense)              (None, 1)                 33        \n",
            "=================================================================\n",
            "Total params: 180,469\n",
            "Trainable params: 180,467\n",
            "Non-trainable params: 2\n",
            "_________________________________________________________________\n"
          ],
          "name": "stdout"
        }
      ]
    },
    {
      "cell_type": "code",
      "metadata": {
        "id": "yRydi0AGIOeL",
        "colab_type": "code",
        "colab": {
          "base_uri": "https://localhost:8080/",
          "height": 1000
        },
        "outputId": "7f8657cc-0141-4929-e189-dd7a7fa8195e"
      },
      "source": [
        "history = model.fit_generator(train_gen, validation_data=val_gen,\n",
        "                              steps_per_epoch=20, validation_steps=20,\n",
        "                             epochs=100, use_multiprocessing=True, callbacks=callbacks_list)"
      ],
      "execution_count": 12,
      "outputs": [
        {
          "output_type": "stream",
          "text": [
            "W0829 06:49:07.578859 140049867868032 deprecation.py:323] From /usr/local/lib/python3.6/dist-packages/tensorflow/python/ops/math_grad.py:1250: add_dispatch_support.<locals>.wrapper (from tensorflow.python.ops.array_ops) is deprecated and will be removed in a future version.\n",
            "Instructions for updating:\n",
            "Use tf.where in 2.0, which has the same broadcast rule as np.where\n"
          ],
          "name": "stderr"
        },
        {
          "output_type": "stream",
          "text": [
            "Epoch 1/100\n",
            "20/20 [==============================] - 59s 3s/step - loss: 4.5499 - val_loss: 2.8331\n",
            "Epoch 2/100\n",
            "20/20 [==============================] - 43s 2s/step - loss: 1.3136 - val_loss: 0.6761\n",
            "Epoch 3/100\n",
            "20/20 [==============================] - 47s 2s/step - loss: 0.6093 - val_loss: 0.4977\n",
            "Epoch 4/100\n",
            "20/20 [==============================] - 48s 2s/step - loss: 0.4548 - val_loss: 0.4728\n",
            "Epoch 5/100\n",
            "20/20 [==============================] - 44s 2s/step - loss: 0.4365 - val_loss: 0.4296\n",
            "Epoch 6/100\n",
            "20/20 [==============================] - 44s 2s/step - loss: 0.3656 - val_loss: 0.5106\n",
            "Epoch 7/100\n",
            "20/20 [==============================] - 44s 2s/step - loss: 0.4196 - val_loss: 0.3746\n",
            "Epoch 8/100\n",
            "20/20 [==============================] - 42s 2s/step - loss: 0.3720 - val_loss: 0.3976\n",
            "Epoch 9/100\n",
            "20/20 [==============================] - 43s 2s/step - loss: 0.3727 - val_loss: 0.4147\n",
            "Epoch 10/100\n",
            "20/20 [==============================] - 44s 2s/step - loss: 0.3697 - val_loss: 0.3578\n",
            "Epoch 11/100\n",
            "20/20 [==============================] - 45s 2s/step - loss: 0.3149 - val_loss: 0.3799\n",
            "Epoch 12/100\n",
            "20/20 [==============================] - 43s 2s/step - loss: 0.3628 - val_loss: 0.3452\n",
            "Epoch 13/100\n",
            "20/20 [==============================] - 45s 2s/step - loss: 0.3352 - val_loss: 0.3864\n",
            "Epoch 14/100\n",
            "20/20 [==============================] - 43s 2s/step - loss: 0.3463 - val_loss: 0.3982\n",
            "Epoch 15/100\n",
            "20/20 [==============================] - 43s 2s/step - loss: 0.3068 - val_loss: 0.3175\n",
            "Epoch 16/100\n",
            "20/20 [==============================] - 43s 2s/step - loss: 0.3162 - val_loss: 0.3578\n",
            "Epoch 17/100\n",
            "20/20 [==============================] - 44s 2s/step - loss: 0.2922 - val_loss: 0.3403\n",
            "Epoch 18/100\n",
            "20/20 [==============================] - 44s 2s/step - loss: 0.2944 - val_loss: 0.3329\n",
            "Epoch 19/100\n",
            "20/20 [==============================] - 43s 2s/step - loss: 0.3044 - val_loss: 0.3122\n",
            "Epoch 20/100\n",
            "20/20 [==============================] - 43s 2s/step - loss: 0.3182 - val_loss: 0.3223\n",
            "Epoch 21/100\n",
            "20/20 [==============================] - 43s 2s/step - loss: 0.3066 - val_loss: 0.3241\n",
            "Epoch 22/100\n",
            "20/20 [==============================] - 43s 2s/step - loss: 0.2900 - val_loss: 0.3327\n",
            "Epoch 23/100\n",
            "20/20 [==============================] - 42s 2s/step - loss: 0.2925 - val_loss: 0.2957\n",
            "Epoch 24/100\n",
            "20/20 [==============================] - 45s 2s/step - loss: 0.2772 - val_loss: 0.3184\n",
            "Epoch 25/100\n",
            "20/20 [==============================] - 49s 2s/step - loss: 0.2880 - val_loss: 0.3181\n",
            "Epoch 26/100\n",
            "20/20 [==============================] - 43s 2s/step - loss: 0.2796 - val_loss: 0.2940\n",
            "Epoch 27/100\n",
            "20/20 [==============================] - 43s 2s/step - loss: 0.2933 - val_loss: 0.2886\n",
            "Epoch 28/100\n",
            "20/20 [==============================] - 47s 2s/step - loss: 0.2842 - val_loss: 0.2978\n",
            "Epoch 29/100\n",
            "20/20 [==============================] - 44s 2s/step - loss: 0.2679 - val_loss: 0.2808\n",
            "Epoch 30/100\n",
            "20/20 [==============================] - 43s 2s/step - loss: 0.2897 - val_loss: 0.3060\n",
            "Epoch 31/100\n",
            "20/20 [==============================] - 44s 2s/step - loss: 0.2909 - val_loss: 0.2961\n",
            "Epoch 32/100\n",
            "20/20 [==============================] - 43s 2s/step - loss: 0.2694 - val_loss: 0.3436\n",
            "Epoch 33/100\n",
            "20/20 [==============================] - 44s 2s/step - loss: 0.2787 - val_loss: 0.2650\n",
            "Epoch 34/100\n",
            "20/20 [==============================] - 44s 2s/step - loss: 0.2705 - val_loss: 0.2972\n",
            "Epoch 35/100\n",
            "20/20 [==============================] - 42s 2s/step - loss: 0.2838 - val_loss: 0.3051\n",
            "Epoch 36/100\n",
            "20/20 [==============================] - 44s 2s/step - loss: 0.2756 - val_loss: 0.2892\n",
            "Epoch 37/100\n",
            "20/20 [==============================] - 45s 2s/step - loss: 0.2832 - val_loss: 0.3690\n",
            "Epoch 38/100\n",
            "20/20 [==============================] - 44s 2s/step - loss: 0.2906 - val_loss: 0.3172\n",
            "Epoch 39/100\n",
            "20/20 [==============================] - 50s 3s/step - loss: 0.2497 - val_loss: 0.2953\n",
            "Epoch 40/100\n",
            "20/20 [==============================] - 45s 2s/step - loss: 0.2462 - val_loss: 0.2778\n",
            "Epoch 41/100\n",
            "20/20 [==============================] - 43s 2s/step - loss: 0.2583 - val_loss: 0.2633\n",
            "Epoch 42/100\n",
            "20/20 [==============================] - 47s 2s/step - loss: 0.2437 - val_loss: 0.2670\n",
            "Epoch 43/100\n",
            "20/20 [==============================] - 48s 2s/step - loss: 0.2245 - val_loss: 0.2672\n",
            "Epoch 44/100\n",
            "20/20 [==============================] - 45s 2s/step - loss: 0.2437 - val_loss: 0.2835\n",
            "Epoch 45/100\n",
            "20/20 [==============================] - 46s 2s/step - loss: 0.2451 - val_loss: 0.2744\n",
            "Epoch 46/100\n",
            "20/20 [==============================] - 46s 2s/step - loss: 0.2436 - val_loss: 0.2922\n",
            "Epoch 47/100\n",
            "20/20 [==============================] - 43s 2s/step - loss: 0.2464 - val_loss: 0.2722\n",
            "Epoch 48/100\n",
            "20/20 [==============================] - 50s 2s/step - loss: 0.2555 - val_loss: 0.2971\n",
            "Epoch 49/100\n",
            "20/20 [==============================] - 48s 2s/step - loss: 0.2412 - val_loss: 0.2714\n",
            "Epoch 50/100\n",
            "20/20 [==============================] - 43s 2s/step - loss: 0.2350 - val_loss: 0.2817\n",
            "Epoch 51/100\n",
            "20/20 [==============================] - 50s 3s/step - loss: 0.2583 - val_loss: 0.2533\n",
            "Epoch 52/100\n",
            "20/20 [==============================] - 44s 2s/step - loss: 0.2397 - val_loss: 0.2713\n",
            "Epoch 53/100\n",
            "20/20 [==============================] - 47s 2s/step - loss: 0.2356 - val_loss: 0.2667\n",
            "Epoch 54/100\n",
            "20/20 [==============================] - 43s 2s/step - loss: 0.2235 - val_loss: 0.2985\n",
            "Epoch 55/100\n",
            "20/20 [==============================] - 44s 2s/step - loss: 0.2342 - val_loss: 0.2666\n",
            "Epoch 56/100\n",
            "20/20 [==============================] - 44s 2s/step - loss: 0.2623 - val_loss: 0.2752\n",
            "Epoch 57/100\n",
            "20/20 [==============================] - 45s 2s/step - loss: 0.2478 - val_loss: 0.2647\n",
            "Epoch 58/100\n",
            "20/20 [==============================] - 47s 2s/step - loss: 0.2492 - val_loss: 0.2814\n",
            "Epoch 59/100\n",
            "20/20 [==============================] - 43s 2s/step - loss: 0.2373 - val_loss: 0.2653\n",
            "Epoch 60/100\n",
            "20/20 [==============================] - 49s 2s/step - loss: 0.2324 - val_loss: 0.2698\n",
            "Epoch 61/100\n",
            "20/20 [==============================] - 44s 2s/step - loss: 0.2361 - val_loss: 0.2591\n",
            "Epoch 62/100\n",
            "20/20 [==============================] - 45s 2s/step - loss: 0.2177 - val_loss: 0.2958\n",
            "Epoch 63/100\n",
            "20/20 [==============================] - 43s 2s/step - loss: 0.2267 - val_loss: 0.2696\n",
            "Epoch 64/100\n",
            "20/20 [==============================] - 44s 2s/step - loss: 0.2263 - val_loss: 0.2570\n",
            "Epoch 65/100\n",
            "20/20 [==============================] - 48s 2s/step - loss: 0.2343 - val_loss: 0.2883\n",
            "Epoch 66/100\n",
            "20/20 [==============================] - 51s 3s/step - loss: 0.2482 - val_loss: 0.2781\n",
            "Epoch 67/100\n",
            "20/20 [==============================] - 46s 2s/step - loss: 0.2400 - val_loss: 0.2837\n",
            "Epoch 68/100\n",
            "20/20 [==============================] - 43s 2s/step - loss: 0.2132 - val_loss: 0.2461\n",
            "Epoch 69/100\n",
            "20/20 [==============================] - 43s 2s/step - loss: 0.2298 - val_loss: 0.2724\n",
            "Epoch 70/100\n",
            "20/20 [==============================] - 43s 2s/step - loss: 0.2712 - val_loss: 0.3075\n",
            "Epoch 71/100\n",
            "20/20 [==============================] - 45s 2s/step - loss: 0.2551 - val_loss: 0.3099\n",
            "Epoch 72/100\n",
            "20/20 [==============================] - 44s 2s/step - loss: 0.2532 - val_loss: 0.2735\n",
            "Epoch 73/100\n",
            "20/20 [==============================] - 45s 2s/step - loss: 0.2467 - val_loss: 0.2766\n",
            "Epoch 74/100\n",
            "20/20 [==============================] - 46s 2s/step - loss: 0.2554 - val_loss: 0.2558\n",
            "Epoch 75/100\n",
            "20/20 [==============================] - 48s 2s/step - loss: 0.2494 - val_loss: 0.2800\n",
            "Epoch 76/100\n",
            "20/20 [==============================] - 44s 2s/step - loss: 0.2140 - val_loss: 0.2762\n",
            "Epoch 77/100\n",
            "20/20 [==============================] - 45s 2s/step - loss: 0.2549 - val_loss: 0.2677\n",
            "Epoch 78/100\n",
            "20/20 [==============================] - 45s 2s/step - loss: 0.2216 - val_loss: 0.2787\n",
            "Epoch 79/100\n",
            "20/20 [==============================] - 46s 2s/step - loss: 0.2368 - val_loss: 0.2848\n",
            "Epoch 80/100\n",
            "20/20 [==============================] - 46s 2s/step - loss: 0.2259 - val_loss: 0.2775\n",
            "Epoch 81/100\n",
            "20/20 [==============================] - 46s 2s/step - loss: 0.2360 - val_loss: 0.2541\n",
            "Epoch 82/100\n",
            "20/20 [==============================] - 46s 2s/step - loss: 0.2321 - val_loss: 0.2762\n",
            "Epoch 83/100\n",
            "20/20 [==============================] - 44s 2s/step - loss: 0.2113 - val_loss: 0.2831\n",
            "Epoch 84/100\n",
            "20/20 [==============================] - 44s 2s/step - loss: 0.2334 - val_loss: 0.2740\n",
            "Epoch 85/100\n",
            "20/20 [==============================] - 44s 2s/step - loss: 0.2563 - val_loss: 0.3014\n",
            "Epoch 86/100\n",
            "20/20 [==============================] - 43s 2s/step - loss: 0.2514 - val_loss: 0.2815\n",
            "Epoch 87/100\n",
            "20/20 [==============================] - 43s 2s/step - loss: 0.2370 - val_loss: 0.2787\n",
            "Epoch 88/100\n",
            "20/20 [==============================] - 46s 2s/step - loss: 0.2392 - val_loss: 0.2654\n",
            "Epoch 89/100\n",
            "20/20 [==============================] - 49s 2s/step - loss: 0.2403 - val_loss: 0.2892\n",
            "Epoch 90/100\n",
            "20/20 [==============================] - 47s 2s/step - loss: 0.2405 - val_loss: 0.2856\n",
            "Epoch 91/100\n",
            "20/20 [==============================] - 44s 2s/step - loss: 0.2380 - val_loss: 0.2677\n",
            "Epoch 92/100\n",
            "20/20 [==============================] - 44s 2s/step - loss: 0.2359 - val_loss: 0.2612\n",
            "Epoch 93/100\n",
            "20/20 [==============================] - 43s 2s/step - loss: 0.2580 - val_loss: 0.2473\n",
            "Epoch 94/100\n",
            "20/20 [==============================] - 45s 2s/step - loss: 0.2328 - val_loss: 0.2726\n",
            "Epoch 95/100\n",
            "20/20 [==============================] - 43s 2s/step - loss: 0.2543 - val_loss: 0.2755\n",
            "Epoch 96/100\n",
            "20/20 [==============================] - 45s 2s/step - loss: 0.2369 - val_loss: 0.2590\n",
            "Epoch 97/100\n",
            "20/20 [==============================] - 44s 2s/step - loss: 0.2281 - val_loss: 0.2728\n",
            "Epoch 98/100\n",
            "20/20 [==============================] - 48s 2s/step - loss: 0.2452 - val_loss: 0.2613\n",
            "Epoch 99/100\n",
            "20/20 [==============================] - 44s 2s/step - loss: 0.2429 - val_loss: 0.2776\n",
            "Epoch 100/100\n",
            "20/20 [==============================] - 50s 2s/step - loss: 0.2215 - val_loss: 0.2815\n"
          ],
          "name": "stdout"
        }
      ]
    },
    {
      "cell_type": "code",
      "metadata": {
        "id": "FCtV86qq1zN_",
        "colab_type": "code",
        "colab": {
          "base_uri": "https://localhost:8080/",
          "height": 609
        },
        "outputId": "004e9d1d-d7c2-45d0-e5c6-e297c82b4fd9"
      },
      "source": [
        "y_vloss = history.history['val_loss']\n",
        "y_loss = history.history['loss']\n",
        "\n",
        "x_len = np.arange(len(y_loss))\n",
        "plt.figure(figsize=(15, 10))\n",
        "plt.plot(x_len, y_vloss, marker='.', c='red', label=\"Validation-set Loss\")\n",
        "plt.plot(x_len, y_loss, marker='.', c='blue', label=\"Train-set Loss\")\n",
        "\n",
        "plt.legend(loc='upper right')\n",
        "plt.grid()\n",
        "plt.xlabel('epoch')\n",
        "plt.ylabel('loss')\n",
        "plt.show()"
      ],
      "execution_count": 14,
      "outputs": [
        {
          "output_type": "display_data",
          "data": {
            "image/png": "[encoded data removed]",
            "text/plain": [
              "<Figure size 1080x720 with 1 Axes>"
            ]
          },
          "metadata": {
            "tags": []
          }
        }
      ]
    },
    {
      "cell_type": "markdown",
      "metadata": {
        "id": "RXNP6dn7hKVT",
        "colab_type": "text"
      },
      "source": [
        "### delay 24시간"
      ]
    },
    {
      "cell_type": "code",
      "metadata": {
        "id": "UuKM9IUChJCT",
        "colab_type": "code",
        "colab": {}
      },
      "source": [
        "train_gen = generator(data_train, gen_data_train, 72, 24, 0, None, shuffle=True, batch_size=20)\n",
        "val_gen = generator(data_val, gen_data_val, 72, 24, 0, None, shuffle=True, batch_size=20)"
      ],
      "execution_count": 0,
      "outputs": []
    },
    {
      "cell_type": "code",
      "metadata": {
        "id": "0Q_g-b4sKTci",
        "colab_type": "code",
        "outputId": "1ccd2a08-2ded-430a-90a6-61a02804d851",
        "colab": {
          "base_uri": "https://localhost:8080/",
          "height": 485
        }
      },
      "source": [
        "reset_keras()\n",
        "model = Sequential()\n",
        "\n",
        "model.add(ConvLSTM2D(filters=1, kernel_size=(3, 3),\n",
        "                   input_shape=(None, 75, 75, 10),\n",
        "                    data_format='channels_last', return_sequences=True,\n",
        "                   padding='same', dropout=0.3))\n",
        "model.add(BatchNormalization())\n",
        "\n",
        "model.add(ConvLSTM2D(filters=10, kernel_size=(3, 3),\n",
        "                    data_format='channels_last',\n",
        "                   padding='same', dropout=0.3))\n",
        "model.add(BatchNormalization())\n",
        "\n",
        "model.add(Conv2D(filters=1, kernel_size=(1, 1),\n",
        "                    data_format='channels_last', activation='relu',\n",
        "                   padding='same'))\n",
        "\n",
        "model.add(Flatten())\n",
        "model.add(Dropout(0.3))\n",
        "\n",
        "model.add(Dense(units=16, activation='relu'))\n",
        "model.add(Dense(units=1))\n",
        "\n",
        "model.compile(optimizer=adam(lr=0.001), loss='mae')\n",
        "model.summary()"
      ],
      "execution_count": 0,
      "outputs": [
        {
          "output_type": "stream",
          "text": [
            "0\n",
            "_________________________________________________________________\n",
            "Layer (type)                 Output Shape              Param #   \n",
            "=================================================================\n",
            "conv_lst_m2d_1 (ConvLSTM2D)  (None, None, 75, 75, 1)   400       \n",
            "_________________________________________________________________\n",
            "batch_normalization_1 (Batch (None, None, 75, 75, 1)   4         \n",
            "_________________________________________________________________\n",
            "conv_lst_m2d_2 (ConvLSTM2D)  (None, 75, 75, 10)        4000      \n",
            "_________________________________________________________________\n",
            "batch_normalization_2 (Batch (None, 75, 75, 10)        40        \n",
            "_________________________________________________________________\n",
            "conv2d_1 (Conv2D)            (None, 75, 75, 1)         11        \n",
            "_________________________________________________________________\n",
            "flatten_1 (Flatten)          (None, 5625)              0         \n",
            "_________________________________________________________________\n",
            "dropout_1 (Dropout)          (None, 5625)              0         \n",
            "_________________________________________________________________\n",
            "dense_1 (Dense)              (None, 16)                90016     \n",
            "_________________________________________________________________\n",
            "dense_2 (Dense)              (None, 1)                 17        \n",
            "=================================================================\n",
            "Total params: 94,488\n",
            "Trainable params: 94,466\n",
            "Non-trainable params: 22\n",
            "_________________________________________________________________\n"
          ],
          "name": "stdout"
        }
      ]
    },
    {
      "cell_type": "code",
      "metadata": {
        "id": "C89ElZZDKmPH",
        "colab_type": "code",
        "outputId": "f0d92cd4-dc2a-49ea-9332-2e58415016eb",
        "colab": {
          "base_uri": "https://localhost:8080/",
          "height": 1000
        }
      },
      "source": [
        "history = model.fit_generator(train_gen, validation_data=val_gen,\n",
        "                              steps_per_epoch=20, validation_steps=20,\n",
        "                             epochs=100, use_multiprocessing=True, callbacks=callbacks_list)"
      ],
      "execution_count": 0,
      "outputs": [
        {
          "output_type": "stream",
          "text": [
            "W0824 17:16:58.424704 140105699637120 deprecation.py:323] From /usr/local/lib/python3.6/dist-packages/tensorflow/python/ops/math_grad.py:1250: add_dispatch_support.<locals>.wrapper (from tensorflow.python.ops.array_ops) is deprecated and will be removed in a future version.\n",
            "Instructions for updating:\n",
            "Use tf.where in 2.0, which has the same broadcast rule as np.where\n"
          ],
          "name": "stderr"
        },
        {
          "output_type": "stream",
          "text": [
            "Epoch 1/100\n",
            "20/20 [==============================] - 68s 3s/step - loss: 8.9394 - val_loss: 8.1121\n",
            "Epoch 2/100\n",
            "20/20 [==============================] - 46s 2s/step - loss: 7.5645 - val_loss: 9.1062\n",
            "Epoch 3/100\n",
            "20/20 [==============================] - 46s 2s/step - loss: 7.4804 - val_loss: 7.5509\n",
            "Epoch 4/100\n",
            "20/20 [==============================] - 46s 2s/step - loss: 7.6392 - val_loss: 9.5907\n",
            "Epoch 5/100\n",
            "20/20 [==============================] - 46s 2s/step - loss: 6.5389 - val_loss: 7.0892\n",
            "Epoch 6/100\n",
            "20/20 [==============================] - 46s 2s/step - loss: 6.4792 - val_loss: 7.1082\n",
            "Epoch 7/100\n",
            "20/20 [==============================] - 47s 2s/step - loss: 5.4956 - val_loss: 5.5016\n",
            "Epoch 8/100\n",
            "20/20 [==============================] - 46s 2s/step - loss: 6.1066 - val_loss: 6.7298\n",
            "Epoch 9/100\n",
            "20/20 [==============================] - 46s 2s/step - loss: 6.0608 - val_loss: 6.6021\n",
            "Epoch 10/100\n",
            "20/20 [==============================] - 46s 2s/step - loss: 5.9524 - val_loss: 5.6939\n",
            "Epoch 11/100\n",
            "20/20 [==============================] - 45s 2s/step - loss: 5.4482 - val_loss: 5.3198\n",
            "Epoch 12/100\n",
            "20/20 [==============================] - 46s 2s/step - loss: 5.1519 - val_loss: 6.7849\n",
            "Epoch 13/100\n",
            "20/20 [==============================] - 47s 2s/step - loss: 5.8305 - val_loss: 5.3505\n",
            "Epoch 14/100\n",
            "20/20 [==============================] - 46s 2s/step - loss: 5.5272 - val_loss: 5.3331\n",
            "Epoch 15/100\n",
            "20/20 [==============================] - 48s 2s/step - loss: 5.2562 - val_loss: 5.0454\n",
            "Epoch 16/100\n",
            "20/20 [==============================] - 46s 2s/step - loss: 5.2524 - val_loss: 4.8380\n",
            "Epoch 17/100\n",
            "20/20 [==============================] - 46s 2s/step - loss: 5.1296 - val_loss: 5.3649\n",
            "Epoch 18/100\n",
            "20/20 [==============================] - 45s 2s/step - loss: 5.5635 - val_loss: 4.7665\n",
            "Epoch 19/100\n",
            "20/20 [==============================] - 46s 2s/step - loss: 4.8829 - val_loss: 5.3632\n",
            "Epoch 20/100\n",
            "20/20 [==============================] - 46s 2s/step - loss: 4.7712 - val_loss: 5.9172\n",
            "Epoch 21/100\n",
            "20/20 [==============================] - 45s 2s/step - loss: 5.2844 - val_loss: 5.2962\n",
            "Epoch 22/100\n",
            "20/20 [==============================] - 46s 2s/step - loss: 5.8523 - val_loss: 5.1445\n",
            "Epoch 23/100\n",
            "20/20 [==============================] - 46s 2s/step - loss: 5.8373 - val_loss: 4.5295\n",
            "Epoch 24/100\n",
            "20/20 [==============================] - 46s 2s/step - loss: 5.2265 - val_loss: 5.3486\n",
            "Epoch 25/100\n",
            "20/20 [==============================] - 46s 2s/step - loss: 5.1189 - val_loss: 4.4236\n",
            "Epoch 26/100\n",
            "20/20 [==============================] - 45s 2s/step - loss: 5.3004 - val_loss: 4.5257\n",
            "Epoch 27/100\n",
            "20/20 [==============================] - 47s 2s/step - loss: 5.1474 - val_loss: 4.1820\n",
            "Epoch 28/100\n",
            "20/20 [==============================] - 45s 2s/step - loss: 5.1187 - val_loss: 5.2381\n",
            "Epoch 29/100\n",
            "20/20 [==============================] - 47s 2s/step - loss: 5.1693 - val_loss: 4.5365\n",
            "Epoch 30/100\n",
            "20/20 [==============================] - 46s 2s/step - loss: 5.2299 - val_loss: 4.8695\n",
            "Epoch 31/100\n",
            "20/20 [==============================] - 46s 2s/step - loss: 5.1262 - val_loss: 4.7571\n",
            "Epoch 32/100\n",
            "20/20 [==============================] - 46s 2s/step - loss: 4.5056 - val_loss: 4.2822\n",
            "Epoch 33/100\n",
            "20/20 [==============================] - 47s 2s/step - loss: 5.1904 - val_loss: 4.4969\n",
            "Epoch 34/100\n",
            "20/20 [==============================] - 46s 2s/step - loss: 4.3383 - val_loss: 4.9076\n",
            "Epoch 35/100\n",
            "20/20 [==============================] - 46s 2s/step - loss: 4.9850 - val_loss: 4.4209\n",
            "Epoch 36/100\n",
            "20/20 [==============================] - 46s 2s/step - loss: 4.4229 - val_loss: 3.9370\n",
            "Epoch 37/100\n",
            "20/20 [==============================] - 45s 2s/step - loss: 5.1233 - val_loss: 4.8340\n",
            "Epoch 38/100\n",
            "20/20 [==============================] - 46s 2s/step - loss: 5.0435 - val_loss: 4.2802\n",
            "Epoch 39/100\n",
            "20/20 [==============================] - 46s 2s/step - loss: 4.9566 - val_loss: 4.3181\n",
            "Epoch 40/100\n",
            "20/20 [==============================] - 47s 2s/step - loss: 4.9476 - val_loss: 4.6445\n",
            "Epoch 41/100\n",
            "20/20 [==============================] - 47s 2s/step - loss: 4.6648 - val_loss: 4.2419\n",
            "Epoch 42/100\n",
            "20/20 [==============================] - 47s 2s/step - loss: 4.8375 - val_loss: 4.4530\n",
            "Epoch 43/100\n",
            "20/20 [==============================] - 46s 2s/step - loss: 4.9411 - val_loss: 4.4772\n",
            "Epoch 44/100\n",
            "20/20 [==============================] - 47s 2s/step - loss: 4.5709 - val_loss: 4.1572\n",
            "Epoch 45/100\n",
            "20/20 [==============================] - 46s 2s/step - loss: 4.6467 - val_loss: 4.3581\n",
            "Epoch 46/100\n",
            "20/20 [==============================] - 46s 2s/step - loss: 4.7526 - val_loss: 4.3410\n",
            "Epoch 47/100\n",
            "20/20 [==============================] - 47s 2s/step - loss: 4.9920 - val_loss: 4.2165\n",
            "Epoch 48/100\n",
            "20/20 [==============================] - 46s 2s/step - loss: 4.9820 - val_loss: 4.7736\n",
            "Epoch 49/100\n",
            "20/20 [==============================] - 46s 2s/step - loss: 4.7795 - val_loss: 4.4855\n",
            "Epoch 50/100\n",
            "20/20 [==============================] - 45s 2s/step - loss: 4.7517 - val_loss: 4.6858\n",
            "Epoch 51/100\n",
            "20/20 [==============================] - 46s 2s/step - loss: 5.0461 - val_loss: 4.4736\n",
            "Epoch 52/100\n",
            "20/20 [==============================] - 46s 2s/step - loss: 4.6430 - val_loss: 4.2295\n",
            "Epoch 53/100\n",
            "20/20 [==============================] - 46s 2s/step - loss: 5.1894 - val_loss: 4.4455\n",
            "Epoch 54/100\n",
            "20/20 [==============================] - 46s 2s/step - loss: 4.6266 - val_loss: 4.9066\n",
            "Epoch 55/100\n",
            "20/20 [==============================] - 46s 2s/step - loss: 4.8419 - val_loss: 4.4627\n",
            "Epoch 56/100\n",
            "20/20 [==============================] - 46s 2s/step - loss: 5.4654 - val_loss: 4.8661\n",
            "Epoch 57/100\n",
            "20/20 [==============================] - 45s 2s/step - loss: 4.7734 - val_loss: 4.2906\n",
            "Epoch 58/100\n",
            "20/20 [==============================] - 46s 2s/step - loss: 5.5141 - val_loss: 4.5762\n",
            "Epoch 59/100\n",
            "20/20 [==============================] - 45s 2s/step - loss: 4.8641 - val_loss: 4.2137\n",
            "Epoch 60/100\n",
            "20/20 [==============================] - 47s 2s/step - loss: 4.3633 - val_loss: 4.4442\n",
            "Epoch 61/100\n",
            "20/20 [==============================] - 46s 2s/step - loss: 4.4979 - val_loss: 4.3800\n",
            "Epoch 62/100\n",
            "20/20 [==============================] - 46s 2s/step - loss: 4.4170 - val_loss: 4.3379\n",
            "Epoch 63/100\n",
            "20/20 [==============================] - 46s 2s/step - loss: 4.3496 - val_loss: 5.0949\n",
            "Epoch 64/100\n",
            "20/20 [==============================] - 46s 2s/step - loss: 4.7755 - val_loss: 4.3192\n",
            "Epoch 65/100\n",
            "20/20 [==============================] - 46s 2s/step - loss: 5.1364 - val_loss: 4.5102\n",
            "Epoch 66/100\n",
            "20/20 [==============================] - 46s 2s/step - loss: 4.4991 - val_loss: 4.5944\n",
            "Epoch 67/100\n",
            "20/20 [==============================] - 47s 2s/step - loss: 4.7754 - val_loss: 4.6087\n",
            "Epoch 68/100\n",
            "20/20 [==============================] - 46s 2s/step - loss: 4.9125 - val_loss: 4.6988\n",
            "Epoch 69/100\n",
            "20/20 [==============================] - 46s 2s/step - loss: 4.6317 - val_loss: 4.4930\n",
            "Epoch 70/100\n",
            "20/20 [==============================] - 46s 2s/step - loss: 4.6308 - val_loss: 5.1918\n",
            "Epoch 71/100\n",
            "20/20 [==============================] - 47s 2s/step - loss: 4.5609 - val_loss: 4.2877\n",
            "Epoch 72/100\n",
            "20/20 [==============================] - 45s 2s/step - loss: 4.8145 - val_loss: 4.3783\n",
            "Epoch 73/100\n",
            "20/20 [==============================] - 46s 2s/step - loss: 4.4336 - val_loss: 4.3886\n",
            "Epoch 74/100\n",
            "20/20 [==============================] - 46s 2s/step - loss: 4.7921 - val_loss: 4.6135\n",
            "Epoch 75/100\n",
            "20/20 [==============================] - 46s 2s/step - loss: 4.8573 - val_loss: 4.1294\n",
            "Epoch 76/100\n",
            "20/20 [==============================] - 46s 2s/step - loss: 4.5480 - val_loss: 4.2775\n",
            "Epoch 77/100\n",
            "20/20 [==============================] - 47s 2s/step - loss: 4.8366 - val_loss: 4.4766\n",
            "Epoch 78/100\n",
            "20/20 [==============================] - 45s 2s/step - loss: 5.1320 - val_loss: 4.7671\n",
            "Epoch 79/100\n",
            "20/20 [==============================] - 46s 2s/step - loss: 5.0865 - val_loss: 4.3626\n",
            "Epoch 80/100\n",
            "20/20 [==============================] - 46s 2s/step - loss: 4.7083 - val_loss: 4.2328\n",
            "Epoch 81/100\n",
            "20/20 [==============================] - 46s 2s/step - loss: 4.6877 - val_loss: 5.0868\n",
            "Epoch 82/100\n",
            "20/20 [==============================] - 46s 2s/step - loss: 4.8097 - val_loss: 4.4959\n",
            "Epoch 83/100\n",
            "20/20 [==============================] - 46s 2s/step - loss: 4.7320 - val_loss: 4.5211\n",
            "Epoch 84/100\n",
            "20/20 [==============================] - 45s 2s/step - loss: 5.0256 - val_loss: 4.1221\n",
            "Epoch 85/100\n",
            "20/20 [==============================] - 45s 2s/step - loss: 4.3450 - val_loss: 4.2227\n",
            "Epoch 86/100\n",
            "20/20 [==============================] - 46s 2s/step - loss: 4.5432 - val_loss: 4.3126\n",
            "Epoch 87/100\n",
            "20/20 [==============================] - 46s 2s/step - loss: 4.3972 - val_loss: 4.4314\n",
            "Epoch 88/100\n",
            "20/20 [==============================] - 47s 2s/step - loss: 4.9973 - val_loss: 4.9335\n",
            "Epoch 89/100\n",
            "20/20 [==============================] - 44s 2s/step - loss: 5.0191 - val_loss: 4.3639\n",
            "Epoch 90/100\n",
            "20/20 [==============================] - 46s 2s/step - loss: 4.6298 - val_loss: 4.5377\n",
            "Epoch 91/100\n",
            "20/20 [==============================] - 46s 2s/step - loss: 4.7747 - val_loss: 4.6345\n",
            "Epoch 92/100\n",
            "20/20 [==============================] - 46s 2s/step - loss: 4.5521 - val_loss: 4.4869\n",
            "Epoch 93/100\n",
            "20/20 [==============================] - 47s 2s/step - loss: 4.9086 - val_loss: 4.7145\n",
            "Epoch 94/100\n",
            "20/20 [==============================] - 46s 2s/step - loss: 4.9865 - val_loss: 4.2532\n",
            "Epoch 95/100\n",
            "20/20 [==============================] - 46s 2s/step - loss: 5.3480 - val_loss: 4.6157\n",
            "Epoch 96/100\n",
            "20/20 [==============================] - 46s 2s/step - loss: 4.8136 - val_loss: 4.3749\n",
            "Epoch 97/100\n",
            "20/20 [==============================] - 46s 2s/step - loss: 4.8828 - val_loss: 4.2377\n",
            "Epoch 98/100\n",
            "20/20 [==============================] - 45s 2s/step - loss: 5.1002 - val_loss: 4.4418\n",
            "Epoch 99/100\n",
            "20/20 [==============================] - 46s 2s/step - loss: 4.3631 - val_loss: 4.5270\n",
            "Epoch 100/100\n",
            "20/20 [==============================] - 45s 2s/step - loss: 4.6644 - val_loss: 4.3665\n"
          ],
          "name": "stdout"
        }
      ]
    },
    {
      "cell_type": "code",
      "metadata": {
        "id": "9EK6kEwXFkw7",
        "colab_type": "code",
        "colab": {}
      },
      "source": [
        "y_vloss = history.history['val_loss']\n",
        "y_loss = history.history['loss']\n",
        "\n",
        "x_len = np.arange(len(y_loss))\n",
        "plt.figure(figsize=(15, 10))\n",
        "plt.plot(x_len, y_vloss, marker='.', c='red', label=\"Validation-set Loss\")\n",
        "plt.plot(x_len, y_loss, marker='.', c='blue', label=\"Train-set Loss\")\n",
        "\n",
        "plt.legend(loc='upper right')\n",
        "plt.grid()\n",
        "plt.xlabel('epoch')\n",
        "plt.ylabel('loss')\n",
        "plt.show()"
      ],
      "execution_count": 0,
      "outputs": []
    },
    {
      "cell_type": "code",
      "metadata": {
        "id": "eMgcxALzf6N1",
        "colab_type": "code",
        "colab": {}
      },
      "source": [
        "def smooth_curve(points, factor=0.9):\n",
        "  smoothed_points = []\n",
        "  for point in points:\n",
        "    if smoothed_points:\n",
        "      previous = smoothed_points[-1]\n",
        "      smoothed_points.append(previous * factor + point * (1 - factor))\n",
        "    else:\n",
        "      smoothed_points.append(point)\n",
        "  return smoothed_points\n",
        "\n",
        "smooth_mae_history = smooth_curve(y_vloss)"
      ],
      "execution_count": 0,
      "outputs": []
    },
    {
      "cell_type": "code",
      "metadata": {
        "id": "o-05MmqRgyoi",
        "colab_type": "code",
        "outputId": "33286dcd-a97a-4bdd-b36d-a27fc4e21075",
        "colab": {
          "base_uri": "https://localhost:8080/",
          "height": 613
        }
      },
      "source": [
        "x_len = np.arange(len(y_loss))\n",
        "plt.figure(figsize=(15, 10))\n",
        "plt.plot(x_len, smooth_mae_history, marker='.', c='red', label=\"Validation-set Loss\")\n",
        "#plt.plot(x_len, y_loss, marker='.', c='blue', label=\"Train-set Loss\")"
      ],
      "execution_count": 0,
      "outputs": [
        {
          "output_type": "execute_result",
          "data": {
            "text/plain": [
              "[<matplotlib.lines.Line2D at 0x7f9c78b5a630>]"
            ]
          },
          "metadata": {
            "tags": []
          },
          "execution_count": 27
        },
        {
          "output_type": "display_data",
          "data": {
            "image/png": "[encoded data removed]",
            "text/plain": [
              "<Figure size 1080x720 with 1 Axes>"
            ]
          },
          "metadata": {
            "tags": []
          }
        }
      ]
    },
    {
      "cell_type": "markdown",
      "metadata": {
        "id": "5c6e4gnQNzCF",
        "colab_type": "text"
      },
      "source": [
        "## 테스트(2019)"
      ]
    },
    {
      "cell_type": "code",
      "metadata": {
        "id": "w6zhj6KhNuD1",
        "colab_type": "code",
        "colab": {}
      },
      "source": [
        "h5f = h5py.File('./gdrive/My Drive/Colab Notebooks/ver2/next_frame/data_2019.h5', 'r')\n",
        "data_test = h5f['total_2019'][:]\n",
        "gen_data_test = h5f['gen_2019'][:]\n",
        "h5f.close()"
      ],
      "execution_count": 0,
      "outputs": []
    },
    {
      "cell_type": "code",
      "metadata": {
        "id": "0jzBn6oON9YY",
        "colab_type": "code",
        "colab": {}
      },
      "source": [
        "model.predict(np.array([test_data]))"
      ],
      "execution_count": 0,
      "outputs": []
    },
    {
      "cell_type": "code",
      "metadata": {
        "id": "d3RMaujiPWmu",
        "colab_type": "code",
        "colab": {}
      },
      "source": [
        "gen_data_test[92]"
      ],
      "execution_count": 0,
      "outputs": []
    },
    {
      "cell_type": "code",
      "metadata": {
        "id": "zl4qU0hPPorU",
        "colab_type": "code",
        "colab": {}
      },
      "source": [
        "gen_data_test[172]"
      ],
      "execution_count": 0,
      "outputs": []
    },
    {
      "cell_type": "code",
      "metadata": {
        "id": "bkxiNowpO9LJ",
        "colab_type": "code",
        "colab": {}
      },
      "source": [
        "test_data = np.rollaxis(data_test[100:172], 1, 4)"
      ],
      "execution_count": 0,
      "outputs": []
    },
    {
      "cell_type": "code",
      "metadata": {
        "id": "omNWFra7PC8p",
        "colab_type": "code",
        "colab": {}
      },
      "source": [
        "np.array([test_data]).shape"
      ],
      "execution_count": 0,
      "outputs": []
    },
    {
      "cell_type": "code",
      "metadata": {
        "id": "rQ1s-csWO2_B",
        "colab_type": "code",
        "colab": {}
      },
      "source": [
        "data_val = np.rollaxis(data_val, 1, 4)"
      ],
      "execution_count": 0,
      "outputs": []
    },
    {
      "cell_type": "code",
      "metadata": {
        "id": "zVVPJXyrOeHf",
        "colab_type": "code",
        "colab": {}
      },
      "source": [
        "np.array([data_test[20:92]]).shape"
      ],
      "execution_count": 0,
      "outputs": []
    },
    {
      "cell_type": "markdown",
      "metadata": {
        "id": "r69FLXQaUbER",
        "colab_type": "text"
      },
      "source": [
        "### eval generator"
      ]
    },
    {
      "cell_type": "code",
      "metadata": {
        "id": "aJYCnox4Umee",
        "colab_type": "code",
        "colab": {}
      },
      "source": [
        "data_test = np.rollaxis(data_test, 1, 4)\n",
        "test_gen = generator(data_test, gen_data_test, 72, 0, 0, None, shuffle=False, batch_size=10)"
      ],
      "execution_count": 0,
      "outputs": []
    },
    {
      "cell_type": "code",
      "metadata": {
        "id": "oeXtVIa3UaJJ",
        "colab_type": "code",
        "outputId": "4c1ae773-5108-4515-9e46-b2ec65b41cae",
        "colab": {
          "base_uri": "https://localhost:8080/",
          "height": 35
        }
      },
      "source": [
        "model.evaluate_generator(test_gen, steps=100)"
      ],
      "execution_count": 0,
      "outputs": [
        {
          "output_type": "execute_result",
          "data": {
            "text/plain": [
              "6.002347364276647"
            ]
          },
          "metadata": {
            "tags": []
          },
          "execution_count": 20
        }
      ]
    },
    {
      "cell_type": "markdown",
      "metadata": {
        "id": "QrsWG3ZFTiLv",
        "colab_type": "text"
      },
      "source": [
        "### 모델 저장"
      ]
    },
    {
      "cell_type": "code",
      "metadata": {
        "id": "2JTkGcpCBk0F",
        "colab_type": "code",
        "colab": {}
      },
      "source": [
        "model_json = model.to_json()\n",
        "with open(\"./gdrive/My Drive/Colab Notebooks/ver2/next_frame/model_3rd.json\", \"w\") as json_file : \n",
        "    json_file.write(model_json)\n",
        "model.save_weights('./gdrive/My Drive/Colab Notebooks/ver2/next_frame/model_3rd.h5')"
      ],
      "execution_count": 0,
      "outputs": []
    }
  ]
}